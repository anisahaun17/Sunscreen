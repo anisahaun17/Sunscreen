{
  "cells": [
    {
      "cell_type": "code",
      "execution_count": null,
      "metadata": {
        "id": "gb2bsJh3gs3L"
      },
      "outputs": [],
      "source": [
        "import pandas as pd\n",
        "import numpy as np\n",
        "\n",
        "# data preprocessing\n",
        "from scipy import stats\n",
        "from sklearn import preprocessing\n",
        "from sklearn.preprocessing import StandardScaler\n",
        "from imblearn.over_sampling import SMOTE\n",
        "\n",
        "# data visualization\n",
        "import matplotlib.pyplot as plt\n",
        "import seaborn as sns\n",
        "from matplotlib.colors import LinearSegmentedColormap"
      ]
    },
    {
      "cell_type": "markdown",
      "source": [
        "Link dataset: https://docs.google.com/spreadsheets/d/1egzTbNaLBtxYLhoUW77DYSs_PRoaSNhKM7Om-rDWV-8/edit?usp=sharing"
      ],
      "metadata": {
        "id": "b7-4bv3QCpkd"
      }
    },
    {
      "cell_type": "markdown",
      "metadata": {
        "id": "neaMbJdRd8fD"
      },
      "source": [
        "# Data Preprocessing"
      ]
    },
    {
      "cell_type": "code",
      "execution_count": null,
      "metadata": {
        "id": "MDBrGkrg5HoP"
      },
      "outputs": [],
      "source": [
        "url = 'https://raw.githubusercontent.com/salsabilaseptiani/Physical-Chemical-Sunscreen/main/sunscreen.csv'\n",
        "sunscreen = pd.read_csv(url,encoding='unicode_escape',sep=',')"
      ]
    },
    {
      "cell_type": "code",
      "execution_count": null,
      "metadata": {
        "colab": {
          "base_uri": "https://localhost:8080/",
          "height": 206
        },
        "id": "gVhPJOCRh1T-",
        "outputId": "a7ebd2cb-9047-43b4-a667-09c73131403c"
      },
      "outputs": [
        {
          "output_type": "execute_result",
          "data": {
            "text/plain": [
              "          Timestamp jenis_kelamin  usia  durasi_aktivitas  spf jenis_kulit  \\\n",
              "0  24/05/2023 11:47     Perempuan    20               240   30   Berminyak   \n",
              "1  24/05/2023 12:02     Perempuan    20               300   30      Normal   \n",
              "2  24/05/2023 14:26     Perempuan    18               600   30   Kombinasi   \n",
              "3  24/05/2023 16:37     Laki-Laki    19               480   30   Berminyak   \n",
              "4  24/05/2023 21:48     Laki-Laki    19               600   30      Normal   \n",
              "\n",
              "  tekstur_ss  jenis_ss  Angkatan  \n",
              "0        Gel  Chemical      2021  \n",
              "1        Gel  Chemical      2021  \n",
              "2     Lotion  Chemical      2022  \n",
              "3        Gel  Chemical      2022  \n",
              "4      Cream  Chemical      2022  "
            ],
            "text/html": [
              "\n",
              "  <div id=\"df-209c8648-e263-45e4-9113-25323e3fc7b4\">\n",
              "    <div class=\"colab-df-container\">\n",
              "      <div>\n",
              "<style scoped>\n",
              "    .dataframe tbody tr th:only-of-type {\n",
              "        vertical-align: middle;\n",
              "    }\n",
              "\n",
              "    .dataframe tbody tr th {\n",
              "        vertical-align: top;\n",
              "    }\n",
              "\n",
              "    .dataframe thead th {\n",
              "        text-align: right;\n",
              "    }\n",
              "</style>\n",
              "<table border=\"1\" class=\"dataframe\">\n",
              "  <thead>\n",
              "    <tr style=\"text-align: right;\">\n",
              "      <th></th>\n",
              "      <th>Timestamp</th>\n",
              "      <th>jenis_kelamin</th>\n",
              "      <th>usia</th>\n",
              "      <th>durasi_aktivitas</th>\n",
              "      <th>spf</th>\n",
              "      <th>jenis_kulit</th>\n",
              "      <th>tekstur_ss</th>\n",
              "      <th>jenis_ss</th>\n",
              "      <th>Angkatan</th>\n",
              "    </tr>\n",
              "  </thead>\n",
              "  <tbody>\n",
              "    <tr>\n",
              "      <th>0</th>\n",
              "      <td>24/05/2023 11:47</td>\n",
              "      <td>Perempuan</td>\n",
              "      <td>20</td>\n",
              "      <td>240</td>\n",
              "      <td>30</td>\n",
              "      <td>Berminyak</td>\n",
              "      <td>Gel</td>\n",
              "      <td>Chemical</td>\n",
              "      <td>2021</td>\n",
              "    </tr>\n",
              "    <tr>\n",
              "      <th>1</th>\n",
              "      <td>24/05/2023 12:02</td>\n",
              "      <td>Perempuan</td>\n",
              "      <td>20</td>\n",
              "      <td>300</td>\n",
              "      <td>30</td>\n",
              "      <td>Normal</td>\n",
              "      <td>Gel</td>\n",
              "      <td>Chemical</td>\n",
              "      <td>2021</td>\n",
              "    </tr>\n",
              "    <tr>\n",
              "      <th>2</th>\n",
              "      <td>24/05/2023 14:26</td>\n",
              "      <td>Perempuan</td>\n",
              "      <td>18</td>\n",
              "      <td>600</td>\n",
              "      <td>30</td>\n",
              "      <td>Kombinasi</td>\n",
              "      <td>Lotion</td>\n",
              "      <td>Chemical</td>\n",
              "      <td>2022</td>\n",
              "    </tr>\n",
              "    <tr>\n",
              "      <th>3</th>\n",
              "      <td>24/05/2023 16:37</td>\n",
              "      <td>Laki-Laki</td>\n",
              "      <td>19</td>\n",
              "      <td>480</td>\n",
              "      <td>30</td>\n",
              "      <td>Berminyak</td>\n",
              "      <td>Gel</td>\n",
              "      <td>Chemical</td>\n",
              "      <td>2022</td>\n",
              "    </tr>\n",
              "    <tr>\n",
              "      <th>4</th>\n",
              "      <td>24/05/2023 21:48</td>\n",
              "      <td>Laki-Laki</td>\n",
              "      <td>19</td>\n",
              "      <td>600</td>\n",
              "      <td>30</td>\n",
              "      <td>Normal</td>\n",
              "      <td>Cream</td>\n",
              "      <td>Chemical</td>\n",
              "      <td>2022</td>\n",
              "    </tr>\n",
              "  </tbody>\n",
              "</table>\n",
              "</div>\n",
              "      <button class=\"colab-df-convert\" onclick=\"convertToInteractive('df-209c8648-e263-45e4-9113-25323e3fc7b4')\"\n",
              "              title=\"Convert this dataframe to an interactive table.\"\n",
              "              style=\"display:none;\">\n",
              "        \n",
              "  <svg xmlns=\"http://www.w3.org/2000/svg\" height=\"24px\"viewBox=\"0 0 24 24\"\n",
              "       width=\"24px\">\n",
              "    <path d=\"M0 0h24v24H0V0z\" fill=\"none\"/>\n",
              "    <path d=\"M18.56 5.44l.94 2.06.94-2.06 2.06-.94-2.06-.94-.94-2.06-.94 2.06-2.06.94zm-11 1L8.5 8.5l.94-2.06 2.06-.94-2.06-.94L8.5 2.5l-.94 2.06-2.06.94zm10 10l.94 2.06.94-2.06 2.06-.94-2.06-.94-.94-2.06-.94 2.06-2.06.94z\"/><path d=\"M17.41 7.96l-1.37-1.37c-.4-.4-.92-.59-1.43-.59-.52 0-1.04.2-1.43.59L10.3 9.45l-7.72 7.72c-.78.78-.78 2.05 0 2.83L4 21.41c.39.39.9.59 1.41.59.51 0 1.02-.2 1.41-.59l7.78-7.78 2.81-2.81c.8-.78.8-2.07 0-2.86zM5.41 20L4 18.59l7.72-7.72 1.47 1.35L5.41 20z\"/>\n",
              "  </svg>\n",
              "      </button>\n",
              "      \n",
              "  <style>\n",
              "    .colab-df-container {\n",
              "      display:flex;\n",
              "      flex-wrap:wrap;\n",
              "      gap: 12px;\n",
              "    }\n",
              "\n",
              "    .colab-df-convert {\n",
              "      background-color: #E8F0FE;\n",
              "      border: none;\n",
              "      border-radius: 50%;\n",
              "      cursor: pointer;\n",
              "      display: none;\n",
              "      fill: #1967D2;\n",
              "      height: 32px;\n",
              "      padding: 0 0 0 0;\n",
              "      width: 32px;\n",
              "    }\n",
              "\n",
              "    .colab-df-convert:hover {\n",
              "      background-color: #E2EBFA;\n",
              "      box-shadow: 0px 1px 2px rgba(60, 64, 67, 0.3), 0px 1px 3px 1px rgba(60, 64, 67, 0.15);\n",
              "      fill: #174EA6;\n",
              "    }\n",
              "\n",
              "    [theme=dark] .colab-df-convert {\n",
              "      background-color: #3B4455;\n",
              "      fill: #D2E3FC;\n",
              "    }\n",
              "\n",
              "    [theme=dark] .colab-df-convert:hover {\n",
              "      background-color: #434B5C;\n",
              "      box-shadow: 0px 1px 3px 1px rgba(0, 0, 0, 0.15);\n",
              "      filter: drop-shadow(0px 1px 2px rgba(0, 0, 0, 0.3));\n",
              "      fill: #FFFFFF;\n",
              "    }\n",
              "  </style>\n",
              "\n",
              "      <script>\n",
              "        const buttonEl =\n",
              "          document.querySelector('#df-209c8648-e263-45e4-9113-25323e3fc7b4 button.colab-df-convert');\n",
              "        buttonEl.style.display =\n",
              "          google.colab.kernel.accessAllowed ? 'block' : 'none';\n",
              "\n",
              "        async function convertToInteractive(key) {\n",
              "          const element = document.querySelector('#df-209c8648-e263-45e4-9113-25323e3fc7b4');\n",
              "          const dataTable =\n",
              "            await google.colab.kernel.invokeFunction('convertToInteractive',\n",
              "                                                     [key], {});\n",
              "          if (!dataTable) return;\n",
              "\n",
              "          const docLinkHtml = 'Like what you see? Visit the ' +\n",
              "            '<a target=\"_blank\" href=https://colab.research.google.com/notebooks/data_table.ipynb>data table notebook</a>'\n",
              "            + ' to learn more about interactive tables.';\n",
              "          element.innerHTML = '';\n",
              "          dataTable['output_type'] = 'display_data';\n",
              "          await google.colab.output.renderOutput(dataTable, element);\n",
              "          const docLink = document.createElement('div');\n",
              "          docLink.innerHTML = docLinkHtml;\n",
              "          element.appendChild(docLink);\n",
              "        }\n",
              "      </script>\n",
              "    </div>\n",
              "  </div>\n",
              "  "
            ]
          },
          "metadata": {},
          "execution_count": 3
        }
      ],
      "source": [
        "# rename kolom\n",
        "sunscreen = sunscreen.rename(columns={'Jenis Kelamin':'jenis_kelamin', 'Usia':'usia', 'Rata-rata durasi aktivitas di luar dalam sehari':'durasi_aktivitas', 'Jenis Kulit':'jenis_kulit', 'SPF sunscreen yang kamu pakai':'spf', 'Tekstur sunscreen yang kamu pakai':'tekstur_ss', 'Jenis sunscreen':'jenis_ss'})\n",
        "sunscreen.head()"
      ]
    },
    {
      "cell_type": "code",
      "execution_count": null,
      "metadata": {
        "colab": {
          "base_uri": "https://localhost:8080/",
          "height": 206
        },
        "id": "tQ57vKFMjGJ2",
        "outputId": "1303cab1-0746-4549-bab5-fb26bede37f2"
      },
      "outputs": [
        {
          "output_type": "execute_result",
          "data": {
            "text/plain": [
              "  jenis_kelamin  usia  durasi_aktivitas  spf jenis_kulit tekstur_ss  jenis_ss\n",
              "0     Perempuan    20               240   30   Berminyak        Gel  Chemical\n",
              "1     Perempuan    20               300   30      Normal        Gel  Chemical\n",
              "2     Perempuan    18               600   30   Kombinasi     Lotion  Chemical\n",
              "3     Laki-Laki    19               480   30   Berminyak        Gel  Chemical\n",
              "4     Laki-Laki    19               600   30      Normal      Cream  Chemical"
            ],
            "text/html": [
              "\n",
              "  <div id=\"df-43683847-3912-4a24-b300-885dc25d0a3b\">\n",
              "    <div class=\"colab-df-container\">\n",
              "      <div>\n",
              "<style scoped>\n",
              "    .dataframe tbody tr th:only-of-type {\n",
              "        vertical-align: middle;\n",
              "    }\n",
              "\n",
              "    .dataframe tbody tr th {\n",
              "        vertical-align: top;\n",
              "    }\n",
              "\n",
              "    .dataframe thead th {\n",
              "        text-align: right;\n",
              "    }\n",
              "</style>\n",
              "<table border=\"1\" class=\"dataframe\">\n",
              "  <thead>\n",
              "    <tr style=\"text-align: right;\">\n",
              "      <th></th>\n",
              "      <th>jenis_kelamin</th>\n",
              "      <th>usia</th>\n",
              "      <th>durasi_aktivitas</th>\n",
              "      <th>spf</th>\n",
              "      <th>jenis_kulit</th>\n",
              "      <th>tekstur_ss</th>\n",
              "      <th>jenis_ss</th>\n",
              "    </tr>\n",
              "  </thead>\n",
              "  <tbody>\n",
              "    <tr>\n",
              "      <th>0</th>\n",
              "      <td>Perempuan</td>\n",
              "      <td>20</td>\n",
              "      <td>240</td>\n",
              "      <td>30</td>\n",
              "      <td>Berminyak</td>\n",
              "      <td>Gel</td>\n",
              "      <td>Chemical</td>\n",
              "    </tr>\n",
              "    <tr>\n",
              "      <th>1</th>\n",
              "      <td>Perempuan</td>\n",
              "      <td>20</td>\n",
              "      <td>300</td>\n",
              "      <td>30</td>\n",
              "      <td>Normal</td>\n",
              "      <td>Gel</td>\n",
              "      <td>Chemical</td>\n",
              "    </tr>\n",
              "    <tr>\n",
              "      <th>2</th>\n",
              "      <td>Perempuan</td>\n",
              "      <td>18</td>\n",
              "      <td>600</td>\n",
              "      <td>30</td>\n",
              "      <td>Kombinasi</td>\n",
              "      <td>Lotion</td>\n",
              "      <td>Chemical</td>\n",
              "    </tr>\n",
              "    <tr>\n",
              "      <th>3</th>\n",
              "      <td>Laki-Laki</td>\n",
              "      <td>19</td>\n",
              "      <td>480</td>\n",
              "      <td>30</td>\n",
              "      <td>Berminyak</td>\n",
              "      <td>Gel</td>\n",
              "      <td>Chemical</td>\n",
              "    </tr>\n",
              "    <tr>\n",
              "      <th>4</th>\n",
              "      <td>Laki-Laki</td>\n",
              "      <td>19</td>\n",
              "      <td>600</td>\n",
              "      <td>30</td>\n",
              "      <td>Normal</td>\n",
              "      <td>Cream</td>\n",
              "      <td>Chemical</td>\n",
              "    </tr>\n",
              "  </tbody>\n",
              "</table>\n",
              "</div>\n",
              "      <button class=\"colab-df-convert\" onclick=\"convertToInteractive('df-43683847-3912-4a24-b300-885dc25d0a3b')\"\n",
              "              title=\"Convert this dataframe to an interactive table.\"\n",
              "              style=\"display:none;\">\n",
              "        \n",
              "  <svg xmlns=\"http://www.w3.org/2000/svg\" height=\"24px\"viewBox=\"0 0 24 24\"\n",
              "       width=\"24px\">\n",
              "    <path d=\"M0 0h24v24H0V0z\" fill=\"none\"/>\n",
              "    <path d=\"M18.56 5.44l.94 2.06.94-2.06 2.06-.94-2.06-.94-.94-2.06-.94 2.06-2.06.94zm-11 1L8.5 8.5l.94-2.06 2.06-.94-2.06-.94L8.5 2.5l-.94 2.06-2.06.94zm10 10l.94 2.06.94-2.06 2.06-.94-2.06-.94-.94-2.06-.94 2.06-2.06.94z\"/><path d=\"M17.41 7.96l-1.37-1.37c-.4-.4-.92-.59-1.43-.59-.52 0-1.04.2-1.43.59L10.3 9.45l-7.72 7.72c-.78.78-.78 2.05 0 2.83L4 21.41c.39.39.9.59 1.41.59.51 0 1.02-.2 1.41-.59l7.78-7.78 2.81-2.81c.8-.78.8-2.07 0-2.86zM5.41 20L4 18.59l7.72-7.72 1.47 1.35L5.41 20z\"/>\n",
              "  </svg>\n",
              "      </button>\n",
              "      \n",
              "  <style>\n",
              "    .colab-df-container {\n",
              "      display:flex;\n",
              "      flex-wrap:wrap;\n",
              "      gap: 12px;\n",
              "    }\n",
              "\n",
              "    .colab-df-convert {\n",
              "      background-color: #E8F0FE;\n",
              "      border: none;\n",
              "      border-radius: 50%;\n",
              "      cursor: pointer;\n",
              "      display: none;\n",
              "      fill: #1967D2;\n",
              "      height: 32px;\n",
              "      padding: 0 0 0 0;\n",
              "      width: 32px;\n",
              "    }\n",
              "\n",
              "    .colab-df-convert:hover {\n",
              "      background-color: #E2EBFA;\n",
              "      box-shadow: 0px 1px 2px rgba(60, 64, 67, 0.3), 0px 1px 3px 1px rgba(60, 64, 67, 0.15);\n",
              "      fill: #174EA6;\n",
              "    }\n",
              "\n",
              "    [theme=dark] .colab-df-convert {\n",
              "      background-color: #3B4455;\n",
              "      fill: #D2E3FC;\n",
              "    }\n",
              "\n",
              "    [theme=dark] .colab-df-convert:hover {\n",
              "      background-color: #434B5C;\n",
              "      box-shadow: 0px 1px 3px 1px rgba(0, 0, 0, 0.15);\n",
              "      filter: drop-shadow(0px 1px 2px rgba(0, 0, 0, 0.3));\n",
              "      fill: #FFFFFF;\n",
              "    }\n",
              "  </style>\n",
              "\n",
              "      <script>\n",
              "        const buttonEl =\n",
              "          document.querySelector('#df-43683847-3912-4a24-b300-885dc25d0a3b button.colab-df-convert');\n",
              "        buttonEl.style.display =\n",
              "          google.colab.kernel.accessAllowed ? 'block' : 'none';\n",
              "\n",
              "        async function convertToInteractive(key) {\n",
              "          const element = document.querySelector('#df-43683847-3912-4a24-b300-885dc25d0a3b');\n",
              "          const dataTable =\n",
              "            await google.colab.kernel.invokeFunction('convertToInteractive',\n",
              "                                                     [key], {});\n",
              "          if (!dataTable) return;\n",
              "\n",
              "          const docLinkHtml = 'Like what you see? Visit the ' +\n",
              "            '<a target=\"_blank\" href=https://colab.research.google.com/notebooks/data_table.ipynb>data table notebook</a>'\n",
              "            + ' to learn more about interactive tables.';\n",
              "          element.innerHTML = '';\n",
              "          dataTable['output_type'] = 'display_data';\n",
              "          await google.colab.output.renderOutput(dataTable, element);\n",
              "          const docLink = document.createElement('div');\n",
              "          docLink.innerHTML = docLinkHtml;\n",
              "          element.appendChild(docLink);\n",
              "        }\n",
              "      </script>\n",
              "    </div>\n",
              "  </div>\n",
              "  "
            ]
          },
          "metadata": {},
          "execution_count": 4
        }
      ],
      "source": [
        "# menghapus kolom yang tidak digunakan\n",
        "kolom_hapus = ['Timestamp', 'Angkatan']\n",
        "sunscreen = sunscreen.drop(kolom_hapus, axis=1)\n",
        "sunscreen.head()"
      ]
    },
    {
      "cell_type": "markdown",
      "metadata": {
        "id": "IidgkAi0pcYh"
      },
      "source": [
        "Menghapus variabel yang tidak dibutuhkan pada analisis yaitu Timestamp dan Angkatan"
      ]
    },
    {
      "cell_type": "code",
      "execution_count": null,
      "metadata": {
        "colab": {
          "base_uri": "https://localhost:8080/"
        },
        "id": "6tSOxEFtll9_",
        "outputId": "4a5815a6-e412-4436-9f82-a83698c3f7bd"
      },
      "outputs": [
        {
          "output_type": "stream",
          "name": "stdout",
          "text": [
            "<class 'pandas.core.frame.DataFrame'>\n",
            "RangeIndex: 81 entries, 0 to 80\n",
            "Data columns (total 7 columns):\n",
            " #   Column            Non-Null Count  Dtype \n",
            "---  ------            --------------  ----- \n",
            " 0   jenis_kelamin     81 non-null     object\n",
            " 1   usia              81 non-null     int64 \n",
            " 2   durasi_aktivitas  81 non-null     int64 \n",
            " 3   spf               81 non-null     int64 \n",
            " 4   jenis_kulit       81 non-null     object\n",
            " 5   tekstur_ss        81 non-null     object\n",
            " 6   jenis_ss          81 non-null     object\n",
            "dtypes: int64(3), object(4)\n",
            "memory usage: 4.6+ KB\n"
          ]
        }
      ],
      "source": [
        "sunscreen.info()"
      ]
    },
    {
      "cell_type": "code",
      "execution_count": null,
      "metadata": {
        "id": "iStRiflykB5z"
      },
      "outputs": [],
      "source": [
        "# memisahkan variabel kategorik dan numerik\n",
        "cat = ['jenis_kelamin', 'jenis_kulit', 'tekstur_ss', 'jenis_ss']\n",
        "num = ['usia', 'durasi_aktivitas', 'spf']"
      ]
    },
    {
      "cell_type": "code",
      "execution_count": null,
      "metadata": {
        "colab": {
          "base_uri": "https://localhost:8080/",
          "height": 300
        },
        "id": "atqo77_sq4AH",
        "outputId": "5a2b99a1-87c7-4f98-9131-06043d9157a6"
      },
      "outputs": [
        {
          "output_type": "execute_result",
          "data": {
            "text/plain": [
              "            usia  durasi_aktivitas        spf\n",
              "count  81.000000         81.000000  81.000000\n",
              "mean   19.358025        843.197531  46.049383\n",
              "std     1.217668       4770.225457   8.430453\n",
              "min    12.000000         10.000000  30.000000\n",
              "25%    19.000000        150.000000  45.000000\n",
              "50%    19.000000        300.000000  50.000000\n",
              "75%    20.000000        480.000000  50.000000\n",
              "max    21.000000      43200.000000  90.000000"
            ],
            "text/html": [
              "\n",
              "  <div id=\"df-2d64fe11-e3f5-465b-8afa-5991d544fdee\">\n",
              "    <div class=\"colab-df-container\">\n",
              "      <div>\n",
              "<style scoped>\n",
              "    .dataframe tbody tr th:only-of-type {\n",
              "        vertical-align: middle;\n",
              "    }\n",
              "\n",
              "    .dataframe tbody tr th {\n",
              "        vertical-align: top;\n",
              "    }\n",
              "\n",
              "    .dataframe thead th {\n",
              "        text-align: right;\n",
              "    }\n",
              "</style>\n",
              "<table border=\"1\" class=\"dataframe\">\n",
              "  <thead>\n",
              "    <tr style=\"text-align: right;\">\n",
              "      <th></th>\n",
              "      <th>usia</th>\n",
              "      <th>durasi_aktivitas</th>\n",
              "      <th>spf</th>\n",
              "    </tr>\n",
              "  </thead>\n",
              "  <tbody>\n",
              "    <tr>\n",
              "      <th>count</th>\n",
              "      <td>81.000000</td>\n",
              "      <td>81.000000</td>\n",
              "      <td>81.000000</td>\n",
              "    </tr>\n",
              "    <tr>\n",
              "      <th>mean</th>\n",
              "      <td>19.358025</td>\n",
              "      <td>843.197531</td>\n",
              "      <td>46.049383</td>\n",
              "    </tr>\n",
              "    <tr>\n",
              "      <th>std</th>\n",
              "      <td>1.217668</td>\n",
              "      <td>4770.225457</td>\n",
              "      <td>8.430453</td>\n",
              "    </tr>\n",
              "    <tr>\n",
              "      <th>min</th>\n",
              "      <td>12.000000</td>\n",
              "      <td>10.000000</td>\n",
              "      <td>30.000000</td>\n",
              "    </tr>\n",
              "    <tr>\n",
              "      <th>25%</th>\n",
              "      <td>19.000000</td>\n",
              "      <td>150.000000</td>\n",
              "      <td>45.000000</td>\n",
              "    </tr>\n",
              "    <tr>\n",
              "      <th>50%</th>\n",
              "      <td>19.000000</td>\n",
              "      <td>300.000000</td>\n",
              "      <td>50.000000</td>\n",
              "    </tr>\n",
              "    <tr>\n",
              "      <th>75%</th>\n",
              "      <td>20.000000</td>\n",
              "      <td>480.000000</td>\n",
              "      <td>50.000000</td>\n",
              "    </tr>\n",
              "    <tr>\n",
              "      <th>max</th>\n",
              "      <td>21.000000</td>\n",
              "      <td>43200.000000</td>\n",
              "      <td>90.000000</td>\n",
              "    </tr>\n",
              "  </tbody>\n",
              "</table>\n",
              "</div>\n",
              "      <button class=\"colab-df-convert\" onclick=\"convertToInteractive('df-2d64fe11-e3f5-465b-8afa-5991d544fdee')\"\n",
              "              title=\"Convert this dataframe to an interactive table.\"\n",
              "              style=\"display:none;\">\n",
              "        \n",
              "  <svg xmlns=\"http://www.w3.org/2000/svg\" height=\"24px\"viewBox=\"0 0 24 24\"\n",
              "       width=\"24px\">\n",
              "    <path d=\"M0 0h24v24H0V0z\" fill=\"none\"/>\n",
              "    <path d=\"M18.56 5.44l.94 2.06.94-2.06 2.06-.94-2.06-.94-.94-2.06-.94 2.06-2.06.94zm-11 1L8.5 8.5l.94-2.06 2.06-.94-2.06-.94L8.5 2.5l-.94 2.06-2.06.94zm10 10l.94 2.06.94-2.06 2.06-.94-2.06-.94-.94-2.06-.94 2.06-2.06.94z\"/><path d=\"M17.41 7.96l-1.37-1.37c-.4-.4-.92-.59-1.43-.59-.52 0-1.04.2-1.43.59L10.3 9.45l-7.72 7.72c-.78.78-.78 2.05 0 2.83L4 21.41c.39.39.9.59 1.41.59.51 0 1.02-.2 1.41-.59l7.78-7.78 2.81-2.81c.8-.78.8-2.07 0-2.86zM5.41 20L4 18.59l7.72-7.72 1.47 1.35L5.41 20z\"/>\n",
              "  </svg>\n",
              "      </button>\n",
              "      \n",
              "  <style>\n",
              "    .colab-df-container {\n",
              "      display:flex;\n",
              "      flex-wrap:wrap;\n",
              "      gap: 12px;\n",
              "    }\n",
              "\n",
              "    .colab-df-convert {\n",
              "      background-color: #E8F0FE;\n",
              "      border: none;\n",
              "      border-radius: 50%;\n",
              "      cursor: pointer;\n",
              "      display: none;\n",
              "      fill: #1967D2;\n",
              "      height: 32px;\n",
              "      padding: 0 0 0 0;\n",
              "      width: 32px;\n",
              "    }\n",
              "\n",
              "    .colab-df-convert:hover {\n",
              "      background-color: #E2EBFA;\n",
              "      box-shadow: 0px 1px 2px rgba(60, 64, 67, 0.3), 0px 1px 3px 1px rgba(60, 64, 67, 0.15);\n",
              "      fill: #174EA6;\n",
              "    }\n",
              "\n",
              "    [theme=dark] .colab-df-convert {\n",
              "      background-color: #3B4455;\n",
              "      fill: #D2E3FC;\n",
              "    }\n",
              "\n",
              "    [theme=dark] .colab-df-convert:hover {\n",
              "      background-color: #434B5C;\n",
              "      box-shadow: 0px 1px 3px 1px rgba(0, 0, 0, 0.15);\n",
              "      filter: drop-shadow(0px 1px 2px rgba(0, 0, 0, 0.3));\n",
              "      fill: #FFFFFF;\n",
              "    }\n",
              "  </style>\n",
              "\n",
              "      <script>\n",
              "        const buttonEl =\n",
              "          document.querySelector('#df-2d64fe11-e3f5-465b-8afa-5991d544fdee button.colab-df-convert');\n",
              "        buttonEl.style.display =\n",
              "          google.colab.kernel.accessAllowed ? 'block' : 'none';\n",
              "\n",
              "        async function convertToInteractive(key) {\n",
              "          const element = document.querySelector('#df-2d64fe11-e3f5-465b-8afa-5991d544fdee');\n",
              "          const dataTable =\n",
              "            await google.colab.kernel.invokeFunction('convertToInteractive',\n",
              "                                                     [key], {});\n",
              "          if (!dataTable) return;\n",
              "\n",
              "          const docLinkHtml = 'Like what you see? Visit the ' +\n",
              "            '<a target=\"_blank\" href=https://colab.research.google.com/notebooks/data_table.ipynb>data table notebook</a>'\n",
              "            + ' to learn more about interactive tables.';\n",
              "          element.innerHTML = '';\n",
              "          dataTable['output_type'] = 'display_data';\n",
              "          await google.colab.output.renderOutput(dataTable, element);\n",
              "          const docLink = document.createElement('div');\n",
              "          docLink.innerHTML = docLinkHtml;\n",
              "          element.appendChild(docLink);\n",
              "        }\n",
              "      </script>\n",
              "    </div>\n",
              "  </div>\n",
              "  "
            ]
          },
          "metadata": {},
          "execution_count": 7
        }
      ],
      "source": [
        "sunscreen[num].describe()"
      ]
    },
    {
      "cell_type": "markdown",
      "metadata": {
        "id": "t9FKCYxcqI9Q"
      },
      "source": [
        "- Rata-rata usia responden pada penelitian ini berada pada usia 19 tahun.\n",
        "- Usia minimal responden pada penelitian ini berada pada usia 12 tahun.\n",
        "- Usia maksimal responden pada penelitian ini berada pada usia 21 tahun.\n",
        "- Rata-rata durasi aktivitas diluar ruangan pada siang hari adalah 843,197 menit\n",
        "- Minimal durasi aktivitas diluar ruangan pada siang hari adalah 10 menit.\n",
        "- Maksimal durasi aktivitas diluar ruangan pada siang hari adalah 43200 menit.\n",
        "- Rata-rata SPF pada sunscreen yang digunakan responden adalah SPF 46.\n",
        "- Minimal SPF pada sunscreen adalah SPF 30.\n",
        "- Maksimal SPF pada sunscreen adalah SPF 90."
      ]
    },
    {
      "cell_type": "code",
      "execution_count": null,
      "metadata": {
        "colab": {
          "base_uri": "https://localhost:8080/",
          "height": 175
        },
        "id": "Zcg6RU2Pq9DT",
        "outputId": "d81117d5-4cf2-48fb-8b53-04ff64d854d8"
      },
      "outputs": [
        {
          "output_type": "execute_result",
          "data": {
            "text/plain": [
              "       jenis_kelamin jenis_kulit tekstur_ss  jenis_ss\n",
              "count             81          81         81        81\n",
              "unique             2           5          4         2\n",
              "top        Perempuan   Berminyak     Lotion  Chemical\n",
              "freq              66          24         35        47"
            ],
            "text/html": [
              "\n",
              "  <div id=\"df-15edc676-2fe1-423c-b554-dce2e6a8228a\">\n",
              "    <div class=\"colab-df-container\">\n",
              "      <div>\n",
              "<style scoped>\n",
              "    .dataframe tbody tr th:only-of-type {\n",
              "        vertical-align: middle;\n",
              "    }\n",
              "\n",
              "    .dataframe tbody tr th {\n",
              "        vertical-align: top;\n",
              "    }\n",
              "\n",
              "    .dataframe thead th {\n",
              "        text-align: right;\n",
              "    }\n",
              "</style>\n",
              "<table border=\"1\" class=\"dataframe\">\n",
              "  <thead>\n",
              "    <tr style=\"text-align: right;\">\n",
              "      <th></th>\n",
              "      <th>jenis_kelamin</th>\n",
              "      <th>jenis_kulit</th>\n",
              "      <th>tekstur_ss</th>\n",
              "      <th>jenis_ss</th>\n",
              "    </tr>\n",
              "  </thead>\n",
              "  <tbody>\n",
              "    <tr>\n",
              "      <th>count</th>\n",
              "      <td>81</td>\n",
              "      <td>81</td>\n",
              "      <td>81</td>\n",
              "      <td>81</td>\n",
              "    </tr>\n",
              "    <tr>\n",
              "      <th>unique</th>\n",
              "      <td>2</td>\n",
              "      <td>5</td>\n",
              "      <td>4</td>\n",
              "      <td>2</td>\n",
              "    </tr>\n",
              "    <tr>\n",
              "      <th>top</th>\n",
              "      <td>Perempuan</td>\n",
              "      <td>Berminyak</td>\n",
              "      <td>Lotion</td>\n",
              "      <td>Chemical</td>\n",
              "    </tr>\n",
              "    <tr>\n",
              "      <th>freq</th>\n",
              "      <td>66</td>\n",
              "      <td>24</td>\n",
              "      <td>35</td>\n",
              "      <td>47</td>\n",
              "    </tr>\n",
              "  </tbody>\n",
              "</table>\n",
              "</div>\n",
              "      <button class=\"colab-df-convert\" onclick=\"convertToInteractive('df-15edc676-2fe1-423c-b554-dce2e6a8228a')\"\n",
              "              title=\"Convert this dataframe to an interactive table.\"\n",
              "              style=\"display:none;\">\n",
              "        \n",
              "  <svg xmlns=\"http://www.w3.org/2000/svg\" height=\"24px\"viewBox=\"0 0 24 24\"\n",
              "       width=\"24px\">\n",
              "    <path d=\"M0 0h24v24H0V0z\" fill=\"none\"/>\n",
              "    <path d=\"M18.56 5.44l.94 2.06.94-2.06 2.06-.94-2.06-.94-.94-2.06-.94 2.06-2.06.94zm-11 1L8.5 8.5l.94-2.06 2.06-.94-2.06-.94L8.5 2.5l-.94 2.06-2.06.94zm10 10l.94 2.06.94-2.06 2.06-.94-2.06-.94-.94-2.06-.94 2.06-2.06.94z\"/><path d=\"M17.41 7.96l-1.37-1.37c-.4-.4-.92-.59-1.43-.59-.52 0-1.04.2-1.43.59L10.3 9.45l-7.72 7.72c-.78.78-.78 2.05 0 2.83L4 21.41c.39.39.9.59 1.41.59.51 0 1.02-.2 1.41-.59l7.78-7.78 2.81-2.81c.8-.78.8-2.07 0-2.86zM5.41 20L4 18.59l7.72-7.72 1.47 1.35L5.41 20z\"/>\n",
              "  </svg>\n",
              "      </button>\n",
              "      \n",
              "  <style>\n",
              "    .colab-df-container {\n",
              "      display:flex;\n",
              "      flex-wrap:wrap;\n",
              "      gap: 12px;\n",
              "    }\n",
              "\n",
              "    .colab-df-convert {\n",
              "      background-color: #E8F0FE;\n",
              "      border: none;\n",
              "      border-radius: 50%;\n",
              "      cursor: pointer;\n",
              "      display: none;\n",
              "      fill: #1967D2;\n",
              "      height: 32px;\n",
              "      padding: 0 0 0 0;\n",
              "      width: 32px;\n",
              "    }\n",
              "\n",
              "    .colab-df-convert:hover {\n",
              "      background-color: #E2EBFA;\n",
              "      box-shadow: 0px 1px 2px rgba(60, 64, 67, 0.3), 0px 1px 3px 1px rgba(60, 64, 67, 0.15);\n",
              "      fill: #174EA6;\n",
              "    }\n",
              "\n",
              "    [theme=dark] .colab-df-convert {\n",
              "      background-color: #3B4455;\n",
              "      fill: #D2E3FC;\n",
              "    }\n",
              "\n",
              "    [theme=dark] .colab-df-convert:hover {\n",
              "      background-color: #434B5C;\n",
              "      box-shadow: 0px 1px 3px 1px rgba(0, 0, 0, 0.15);\n",
              "      filter: drop-shadow(0px 1px 2px rgba(0, 0, 0, 0.3));\n",
              "      fill: #FFFFFF;\n",
              "    }\n",
              "  </style>\n",
              "\n",
              "      <script>\n",
              "        const buttonEl =\n",
              "          document.querySelector('#df-15edc676-2fe1-423c-b554-dce2e6a8228a button.colab-df-convert');\n",
              "        buttonEl.style.display =\n",
              "          google.colab.kernel.accessAllowed ? 'block' : 'none';\n",
              "\n",
              "        async function convertToInteractive(key) {\n",
              "          const element = document.querySelector('#df-15edc676-2fe1-423c-b554-dce2e6a8228a');\n",
              "          const dataTable =\n",
              "            await google.colab.kernel.invokeFunction('convertToInteractive',\n",
              "                                                     [key], {});\n",
              "          if (!dataTable) return;\n",
              "\n",
              "          const docLinkHtml = 'Like what you see? Visit the ' +\n",
              "            '<a target=\"_blank\" href=https://colab.research.google.com/notebooks/data_table.ipynb>data table notebook</a>'\n",
              "            + ' to learn more about interactive tables.';\n",
              "          element.innerHTML = '';\n",
              "          dataTable['output_type'] = 'display_data';\n",
              "          await google.colab.output.renderOutput(dataTable, element);\n",
              "          const docLink = document.createElement('div');\n",
              "          docLink.innerHTML = docLinkHtml;\n",
              "          element.appendChild(docLink);\n",
              "        }\n",
              "      </script>\n",
              "    </div>\n",
              "  </div>\n",
              "  "
            ]
          },
          "metadata": {},
          "execution_count": 8
        }
      ],
      "source": [
        "sunscreen[cat].describe()"
      ]
    },
    {
      "cell_type": "markdown",
      "metadata": {
        "id": "_dMvlu2BtQ1E"
      },
      "source": [
        "Berdasarkan hasil deskripsi diatas,didapatkan jenis kelamin reponden pada penelitian ini adalah perempuan dengan jumlah sebanyak 66, jenis kulit terbanyak adalah berminyak dengan\n",
        "jumlah 24 reponden, tekstur sunscreen terbanyak adalah lotion dengan jumlah 35\n",
        "responden, dan jenis sunscreen terbanyak yaitu chemical dengan jumlah 47 reponden"
      ]
    },
    {
      "cell_type": "markdown",
      "metadata": {
        "id": "UWUN1StbeBj-"
      },
      "source": [
        "## Check & Handling Outliers"
      ]
    },
    {
      "cell_type": "code",
      "execution_count": null,
      "metadata": {
        "id": "Kp0TDjxtwpWM"
      },
      "outputs": [],
      "source": [
        "# fungsi mencari outlier\n",
        "def find_outliers_zscore(data, column, threshold=3):\n",
        "    z_scores = np.abs(stats.zscore(data[column]))\n",
        "    outliers = data[z_scores > threshold]\n",
        "    return outliers\n",
        "\n",
        "# fungsi menghapus outlier\n",
        "def remove_outliers_zscore(data, column, threshold=3):\n",
        "    z_scores = np.abs(stats.zscore(data[column]))\n",
        "    outliers = np.where(z_scores > threshold)[0]\n",
        "    cleaned_data = data.drop(data.index[outliers])\n",
        "    return cleaned_data"
      ]
    },
    {
      "cell_type": "code",
      "execution_count": null,
      "metadata": {
        "colab": {
          "base_uri": "https://localhost:8080/"
        },
        "id": "FCmnkJWDu138",
        "outputId": "51414b94-1d80-41fa-cd89-308aba6f96be"
      },
      "outputs": [
        {
          "output_type": "stream",
          "name": "stdout",
          "text": [
            "   jenis_kelamin  usia  durasi_aktivitas  spf jenis_kulit tekstur_ss  jenis_ss\n",
            "13     Perempuan    12               420   40   Berminyak     Lotion  Chemical\n"
          ]
        }
      ],
      "source": [
        "# mencari outlier variabel usia\n",
        "outlier_usia = find_outliers_zscore(sunscreen, 'usia')\n",
        "print(outlier_usia)"
      ]
    },
    {
      "cell_type": "code",
      "execution_count": null,
      "metadata": {
        "colab": {
          "base_uri": "https://localhost:8080/"
        },
        "id": "Mtiw_iSTyBs8",
        "outputId": "635b6b20-4025-4cb1-d27e-bd3eaacbd7b4"
      },
      "outputs": [
        {
          "output_type": "execute_result",
          "data": {
            "text/plain": [
              "80"
            ]
          },
          "metadata": {},
          "execution_count": 11
        }
      ],
      "source": [
        "# menghapus outlier variabel usia\n",
        "cleaned_df = remove_outliers_zscore(sunscreen, 'usia')\n",
        "len(cleaned_df)"
      ]
    },
    {
      "cell_type": "code",
      "source": [
        "# mencari outlier variabel usia\n",
        "outlier_usia = find_outliers_zscore(cleaned_df, 'usia')\n",
        "print(outlier_usia)"
      ],
      "metadata": {
        "colab": {
          "base_uri": "https://localhost:8080/"
        },
        "id": "POb4v27m_EGP",
        "outputId": "16c11d3d-c82c-4896-a5cb-f60a4d72522e"
      },
      "execution_count": null,
      "outputs": [
        {
          "output_type": "stream",
          "name": "stdout",
          "text": [
            "Empty DataFrame\n",
            "Columns: [jenis_kelamin, usia, durasi_aktivitas, spf, jenis_kulit, tekstur_ss, jenis_ss]\n",
            "Index: []\n"
          ]
        }
      ]
    },
    {
      "cell_type": "markdown",
      "metadata": {
        "id": "9vTYj27outK0"
      },
      "source": [
        "Pada atribut usia, ditemukan outlier yaitu data dengan usia 12 tahun. Dikatakan sebagai outlier karena target responden penelitian ini adalah mahasiswa Teknologi Sains Data. Outlier tersebut terjadi karena ada kemungkinan kesalahan saat pengisian kuisioner, jadi data outlier tersebut akan dihapus."
      ]
    },
    {
      "cell_type": "code",
      "execution_count": null,
      "metadata": {
        "colab": {
          "base_uri": "https://localhost:8080/"
        },
        "id": "YzPQoZyVyJXj",
        "outputId": "4df334d7-fa18-4adc-f082-f3711ddce99a"
      },
      "outputs": [
        {
          "output_type": "stream",
          "name": "stdout",
          "text": [
            "   jenis_kelamin  usia  durasi_aktivitas  spf jenis_kulit tekstur_ss  jenis_ss\n",
            "35     Perempuan    20             43200   50      Kering     Lotion  Physical\n"
          ]
        }
      ],
      "source": [
        "# mencari outlier variabel durasi_aktivitas\n",
        "outlier_durasi_aktivitas = find_outliers_zscore(cleaned_df, 'durasi_aktivitas')\n",
        "print(outlier_durasi_aktivitas)"
      ]
    },
    {
      "cell_type": "code",
      "execution_count": null,
      "metadata": {
        "colab": {
          "base_uri": "https://localhost:8080/"
        },
        "id": "DL_BhDchymcf",
        "outputId": "8270c630-89e7-466b-d3ac-52d8219d78fb"
      },
      "outputs": [
        {
          "output_type": "execute_result",
          "data": {
            "text/plain": [
              "79"
            ]
          },
          "metadata": {},
          "execution_count": 14
        }
      ],
      "source": [
        "# menghapus outlier variabel durasi_aktivitas\n",
        "cleaned_df1 = remove_outliers_zscore(cleaned_df, 'durasi_aktivitas')\n",
        "len(cleaned_df1)"
      ]
    },
    {
      "cell_type": "code",
      "execution_count": null,
      "metadata": {
        "colab": {
          "base_uri": "https://localhost:8080/"
        },
        "id": "uWzxHskCGee7",
        "outputId": "ef3b1c30-85fb-4555-a31d-cc0bdb14fe06"
      },
      "outputs": [
        {
          "output_type": "stream",
          "name": "stdout",
          "text": [
            "   jenis_kelamin  usia  durasi_aktivitas  spf jenis_kulit tekstur_ss  jenis_ss\n",
            "70     Laki-Laki    20              1440   50   Berminyak      Cream  Physical\n"
          ]
        }
      ],
      "source": [
        "# mencari outlier variabel durasi_aktivitas\n",
        "outlier_durasi_aktivitas1 = find_outliers_zscore(cleaned_df1, 'durasi_aktivitas')\n",
        "print(outlier_durasi_aktivitas1)"
      ]
    },
    {
      "cell_type": "code",
      "execution_count": null,
      "metadata": {
        "colab": {
          "base_uri": "https://localhost:8080/"
        },
        "id": "ahX5ROJ0Gw5p",
        "outputId": "3d8c028b-338a-48a0-ed34-18a271f57b7b"
      },
      "outputs": [
        {
          "output_type": "execute_result",
          "data": {
            "text/plain": [
              "78"
            ]
          },
          "metadata": {},
          "execution_count": 16
        }
      ],
      "source": [
        "# menghapus outlier variabel durasi_aktivitas\n",
        "cleaned_df2 = remove_outliers_zscore(cleaned_df1, 'durasi_aktivitas')\n",
        "len(cleaned_df2)"
      ]
    },
    {
      "cell_type": "code",
      "source": [
        "# mencari outlier variabel durasi_aktivitas\n",
        "outlier_durasi_aktivitas1 = find_outliers_zscore(cleaned_df2, 'durasi_aktivitas')\n",
        "print(outlier_durasi_aktivitas1)"
      ],
      "metadata": {
        "colab": {
          "base_uri": "https://localhost:8080/"
        },
        "id": "ly3qi1GM-0Js",
        "outputId": "d657bfbe-2e45-4447-a8d7-1972c8184972"
      },
      "execution_count": null,
      "outputs": [
        {
          "output_type": "stream",
          "name": "stdout",
          "text": [
            "Empty DataFrame\n",
            "Columns: [jenis_kelamin, usia, durasi_aktivitas, spf, jenis_kulit, tekstur_ss, jenis_ss]\n",
            "Index: []\n"
          ]
        }
      ]
    },
    {
      "cell_type": "markdown",
      "source": [
        "Pada atribut durasi_aktivitas ditemukan outliers yaitu data dengan nilai 43200 menit (720 jam) dan 1440 menit (24 jam). Data tersebut akan dihapus karena dianggap tidak masuk akal jika seseorang berada di luar ruangan pada siang hari selama 720 jam dan 24 jam, hal tersebut dapat memengaruhi hasil analisis yang dilakukan."
      ],
      "metadata": {
        "id": "nE6s5AQm-kGw"
      }
    },
    {
      "cell_type": "code",
      "execution_count": null,
      "metadata": {
        "colab": {
          "base_uri": "https://localhost:8080/"
        },
        "id": "yyvbNz8D38Nf",
        "outputId": "aaaf3fc2-ea87-48f2-cf1e-f40eb210a4fe"
      },
      "outputs": [
        {
          "output_type": "stream",
          "name": "stdout",
          "text": [
            "   jenis_kelamin  usia  durasi_aktivitas  spf jenis_kulit tekstur_ss  jenis_ss\n",
            "56     Perempuan    18                30   90   Berminyak        Gel  Chemical\n"
          ]
        }
      ],
      "source": [
        "# mencari outlier variabel spf\n",
        "outlier_spf = find_outliers_zscore(cleaned_df2, 'spf')\n",
        "print(outlier_spf)"
      ]
    },
    {
      "cell_type": "code",
      "execution_count": null,
      "metadata": {
        "colab": {
          "base_uri": "https://localhost:8080/"
        },
        "id": "yBPeTzU-6PD6",
        "outputId": "8d426a86-0838-4be9-a19e-df538e4c3bd3"
      },
      "outputs": [
        {
          "output_type": "execute_result",
          "data": {
            "text/plain": [
              "77"
            ]
          },
          "metadata": {},
          "execution_count": 19
        }
      ],
      "source": [
        "# menghapus outlier variabel spf\n",
        "cleaned_df3 = remove_outliers_zscore(cleaned_df2, 'spf')\n",
        "len(cleaned_df3)"
      ]
    },
    {
      "cell_type": "code",
      "source": [
        "# mencari outlier variabel spf\n",
        "outlier_spf = find_outliers_zscore(cleaned_df3, 'spf')\n",
        "print(outlier_spf)"
      ],
      "metadata": {
        "colab": {
          "base_uri": "https://localhost:8080/"
        },
        "id": "d6r2kMS4cffS",
        "outputId": "b658752c-87ea-444d-f47a-c8075887993f"
      },
      "execution_count": null,
      "outputs": [
        {
          "output_type": "stream",
          "name": "stdout",
          "text": [
            "Empty DataFrame\n",
            "Columns: [jenis_kelamin, usia, durasi_aktivitas, spf, jenis_kulit, tekstur_ss, jenis_ss]\n",
            "Index: []\n"
          ]
        }
      ]
    },
    {
      "cell_type": "markdown",
      "source": [
        "Pada atribut spf ditemukan outlier yaitu data dengan nilai 90. Data tersebut dikatakan outlier karena saat ini SPF 50 masih menjadi salah satu kandungan SPF sunscreen tertinggi di Indonesia (BeautyHaul, 2022)."
      ],
      "metadata": {
        "id": "hUgqfiey_INc"
      }
    },
    {
      "cell_type": "code",
      "execution_count": null,
      "metadata": {
        "colab": {
          "base_uri": "https://localhost:8080/",
          "height": 452
        },
        "id": "Ij5CMI_tmflr",
        "outputId": "61345a78-fa30-4ed3-c954-009dc8c55496"
      },
      "outputs": [
        {
          "output_type": "display_data",
          "data": {
            "text/plain": [
              "<Figure size 640x480 with 1 Axes>"
            ],
            "image/png": "[encoded data removed]"
          },
          "metadata": {}
        }
      ],
      "source": [
        "# Membuat figure dan axis\n",
        "fig, ax = plt.subplots()\n",
        "\n",
        "# Menetapkan warna boxplot\n",
        "boxplot = ax.boxplot([sunscreen[col] for col in num], patch_artist=True)\n",
        "\n",
        "# Mengatur warna boxplot\n",
        "colors = ['#ff39aa', '#bdff00', '#c97dff']\n",
        "for patch, color in zip(boxplot['boxes'], colors):\n",
        "    patch.set_facecolor(color)\n",
        "\n",
        "# Menetapkan label tick pada sumbu x\n",
        "ax.set_xticklabels(num)\n",
        "\n",
        "# Menetapkan label pada sumbu y\n",
        "ax.set_ylabel('Nilai')\n",
        "\n",
        "# Menetapkan judul plot\n",
        "ax.set_title('Sebelum Penghapusan Outlier')\n",
        "\n",
        "# Mengganti warna garis median pada boxplot\n",
        "for line in boxplot['medians']:\n",
        "    line.set_color('red')\n",
        "\n",
        "# Menampilkan plot\n",
        "plt.show()"
      ]
    },
    {
      "cell_type": "code",
      "execution_count": null,
      "metadata": {
        "colab": {
          "base_uri": "https://localhost:8080/",
          "height": 452
        },
        "id": "iQLKwlHAJ2t3",
        "outputId": "ba72c3d9-910c-4e72-a0a3-23305ecad052"
      },
      "outputs": [
        {
          "output_type": "display_data",
          "data": {
            "text/plain": [
              "<Figure size 640x480 with 1 Axes>"
            ],
            "image/png": "[encoded data removed]"
          },
          "metadata": {}
        }
      ],
      "source": [
        "# Membuat figure dan axis\n",
        "fig, ax = plt.subplots()\n",
        "\n",
        "# Menetapkan warna boxplot\n",
        "boxplot = ax.boxplot([cleaned_df3[col] for col in num], patch_artist=True)\n",
        "\n",
        "# Mengatur warna boxplot\n",
        "colors = ['#ff39aa', '#bdff00', '#c97dff']\n",
        "for patch, color in zip(boxplot['boxes'], colors):\n",
        "    patch.set_facecolor(color)\n",
        "\n",
        "# Menetapkan label tick pada sumbu x\n",
        "ax.set_xticklabels(num)\n",
        "\n",
        "# Menetapkan label pada sumbu y\n",
        "ax.set_ylabel('Nilai')\n",
        "\n",
        "# Menetapkan judul plot\n",
        "ax.set_title('Setelah Penghapusan Outlier')\n",
        "\n",
        "# Mengganti warna garis median pada boxplot\n",
        "for line in boxplot['medians']:\n",
        "    line.set_color('red')\n",
        "\n",
        "# Menampilkan plot\n",
        "plt.show()"
      ]
    },
    {
      "cell_type": "markdown",
      "metadata": {
        "id": "ZY_7iAYvgOHs"
      },
      "source": [
        "## Normalization"
      ]
    },
    {
      "cell_type": "code",
      "execution_count": null,
      "metadata": {
        "colab": {
          "base_uri": "https://localhost:8080/",
          "height": 423
        },
        "id": "mOnB2W039bna",
        "outputId": "aba57de4-a6f8-42bc-9909-2ab444a197f6"
      },
      "outputs": [
        {
          "output_type": "execute_result",
          "data": {
            "text/plain": [
              "   jenis_kelamin      usia  durasi_aktivitas       spf jenis_kulit tekstur_ss  \\\n",
              "0      Perempuan  0.612372         -0.340355 -2.241894   Berminyak        Gel   \n",
              "1      Perempuan  0.612372         -0.007845 -2.241894      Normal        Gel   \n",
              "2      Perempuan -1.632993          1.654706 -2.241894   Kombinasi     Lotion   \n",
              "3      Laki-Laki -0.510310          0.989686 -2.241894   Berminyak        Gel   \n",
              "4      Laki-Laki -0.510310          1.654706 -2.241894      Normal      Cream   \n",
              "..           ...       ...               ...       ...         ...        ...   \n",
              "76     Perempuan  0.612372         -1.116212 -0.065938   Kombinasi        Gel   \n",
              "77     Laki-Laki  0.612372          0.324665  0.659380      Normal     Lotion   \n",
              "78     Perempuan -0.510310          1.654706  0.659380    Sensitif     Lotion   \n",
              "79     Perempuan -0.510310         -0.340355 -2.241894   Kombinasi      Cream   \n",
              "80     Perempuan  0.612372          1.322196  0.659380   Berminyak     Lotion   \n",
              "\n",
              "    jenis_ss  \n",
              "0   Chemical  \n",
              "1   Chemical  \n",
              "2   Chemical  \n",
              "3   Chemical  \n",
              "4   Chemical  \n",
              "..       ...  \n",
              "76  Chemical  \n",
              "77  Physical  \n",
              "78  Chemical  \n",
              "79  Physical  \n",
              "80  Physical  \n",
              "\n",
              "[77 rows x 7 columns]"
            ],
            "text/html": [
              "\n",
              "  <div id=\"df-c0469c86-417e-4221-9362-26b92fda508d\">\n",
              "    <div class=\"colab-df-container\">\n",
              "      <div>\n",
              "<style scoped>\n",
              "    .dataframe tbody tr th:only-of-type {\n",
              "        vertical-align: middle;\n",
              "    }\n",
              "\n",
              "    .dataframe tbody tr th {\n",
              "        vertical-align: top;\n",
              "    }\n",
              "\n",
              "    .dataframe thead th {\n",
              "        text-align: right;\n",
              "    }\n",
              "</style>\n",
              "<table border=\"1\" class=\"dataframe\">\n",
              "  <thead>\n",
              "    <tr style=\"text-align: right;\">\n",
              "      <th></th>\n",
              "      <th>jenis_kelamin</th>\n",
              "      <th>usia</th>\n",
              "      <th>durasi_aktivitas</th>\n",
              "      <th>spf</th>\n",
              "      <th>jenis_kulit</th>\n",
              "      <th>tekstur_ss</th>\n",
              "      <th>jenis_ss</th>\n",
              "    </tr>\n",
              "  </thead>\n",
              "  <tbody>\n",
              "    <tr>\n",
              "      <th>0</th>\n",
              "      <td>Perempuan</td>\n",
              "      <td>0.612372</td>\n",
              "      <td>-0.340355</td>\n",
              "      <td>-2.241894</td>\n",
              "      <td>Berminyak</td>\n",
              "      <td>Gel</td>\n",
              "      <td>Chemical</td>\n",
              "    </tr>\n",
              "    <tr>\n",
              "      <th>1</th>\n",
              "      <td>Perempuan</td>\n",
              "      <td>0.612372</td>\n",
              "      <td>-0.007845</td>\n",
              "      <td>-2.241894</td>\n",
              "      <td>Normal</td>\n",
              "      <td>Gel</td>\n",
              "      <td>Chemical</td>\n",
              "    </tr>\n",
              "    <tr>\n",
              "      <th>2</th>\n",
              "      <td>Perempuan</td>\n",
              "      <td>-1.632993</td>\n",
              "      <td>1.654706</td>\n",
              "      <td>-2.241894</td>\n",
              "      <td>Kombinasi</td>\n",
              "      <td>Lotion</td>\n",
              "      <td>Chemical</td>\n",
              "    </tr>\n",
              "    <tr>\n",
              "      <th>3</th>\n",
              "      <td>Laki-Laki</td>\n",
              "      <td>-0.510310</td>\n",
              "      <td>0.989686</td>\n",
              "      <td>-2.241894</td>\n",
              "      <td>Berminyak</td>\n",
              "      <td>Gel</td>\n",
              "      <td>Chemical</td>\n",
              "    </tr>\n",
              "    <tr>\n",
              "      <th>4</th>\n",
              "      <td>Laki-Laki</td>\n",
              "      <td>-0.510310</td>\n",
              "      <td>1.654706</td>\n",
              "      <td>-2.241894</td>\n",
              "      <td>Normal</td>\n",
              "      <td>Cream</td>\n",
              "      <td>Chemical</td>\n",
              "    </tr>\n",
              "    <tr>\n",
              "      <th>...</th>\n",
              "      <td>...</td>\n",
              "      <td>...</td>\n",
              "      <td>...</td>\n",
              "      <td>...</td>\n",
              "      <td>...</td>\n",
              "      <td>...</td>\n",
              "      <td>...</td>\n",
              "    </tr>\n",
              "    <tr>\n",
              "      <th>76</th>\n",
              "      <td>Perempuan</td>\n",
              "      <td>0.612372</td>\n",
              "      <td>-1.116212</td>\n",
              "      <td>-0.065938</td>\n",
              "      <td>Kombinasi</td>\n",
              "      <td>Gel</td>\n",
              "      <td>Chemical</td>\n",
              "    </tr>\n",
              "    <tr>\n",
              "      <th>77</th>\n",
              "      <td>Laki-Laki</td>\n",
              "      <td>0.612372</td>\n",
              "      <td>0.324665</td>\n",
              "      <td>0.659380</td>\n",
              "      <td>Normal</td>\n",
              "      <td>Lotion</td>\n",
              "      <td>Physical</td>\n",
              "    </tr>\n",
              "    <tr>\n",
              "      <th>78</th>\n",
              "      <td>Perempuan</td>\n",
              "      <td>-0.510310</td>\n",
              "      <td>1.654706</td>\n",
              "      <td>0.659380</td>\n",
              "      <td>Sensitif</td>\n",
              "      <td>Lotion</td>\n",
              "      <td>Chemical</td>\n",
              "    </tr>\n",
              "    <tr>\n",
              "      <th>79</th>\n",
              "      <td>Perempuan</td>\n",
              "      <td>-0.510310</td>\n",
              "      <td>-0.340355</td>\n",
              "      <td>-2.241894</td>\n",
              "      <td>Kombinasi</td>\n",
              "      <td>Cream</td>\n",
              "      <td>Physical</td>\n",
              "    </tr>\n",
              "    <tr>\n",
              "      <th>80</th>\n",
              "      <td>Perempuan</td>\n",
              "      <td>0.612372</td>\n",
              "      <td>1.322196</td>\n",
              "      <td>0.659380</td>\n",
              "      <td>Berminyak</td>\n",
              "      <td>Lotion</td>\n",
              "      <td>Physical</td>\n",
              "    </tr>\n",
              "  </tbody>\n",
              "</table>\n",
              "<p>77 rows × 7 columns</p>\n",
              "</div>\n",
              "      <button class=\"colab-df-convert\" onclick=\"convertToInteractive('df-c0469c86-417e-4221-9362-26b92fda508d')\"\n",
              "              title=\"Convert this dataframe to an interactive table.\"\n",
              "              style=\"display:none;\">\n",
              "        \n",
              "  <svg xmlns=\"http://www.w3.org/2000/svg\" height=\"24px\"viewBox=\"0 0 24 24\"\n",
              "       width=\"24px\">\n",
              "    <path d=\"M0 0h24v24H0V0z\" fill=\"none\"/>\n",
              "    <path d=\"M18.56 5.44l.94 2.06.94-2.06 2.06-.94-2.06-.94-.94-2.06-.94 2.06-2.06.94zm-11 1L8.5 8.5l.94-2.06 2.06-.94-2.06-.94L8.5 2.5l-.94 2.06-2.06.94zm10 10l.94 2.06.94-2.06 2.06-.94-2.06-.94-.94-2.06-.94 2.06-2.06.94z\"/><path d=\"M17.41 7.96l-1.37-1.37c-.4-.4-.92-.59-1.43-.59-.52 0-1.04.2-1.43.59L10.3 9.45l-7.72 7.72c-.78.78-.78 2.05 0 2.83L4 21.41c.39.39.9.59 1.41.59.51 0 1.02-.2 1.41-.59l7.78-7.78 2.81-2.81c.8-.78.8-2.07 0-2.86zM5.41 20L4 18.59l7.72-7.72 1.47 1.35L5.41 20z\"/>\n",
              "  </svg>\n",
              "      </button>\n",
              "      \n",
              "  <style>\n",
              "    .colab-df-container {\n",
              "      display:flex;\n",
              "      flex-wrap:wrap;\n",
              "      gap: 12px;\n",
              "    }\n",
              "\n",
              "    .colab-df-convert {\n",
              "      background-color: #E8F0FE;\n",
              "      border: none;\n",
              "      border-radius: 50%;\n",
              "      cursor: pointer;\n",
              "      display: none;\n",
              "      fill: #1967D2;\n",
              "      height: 32px;\n",
              "      padding: 0 0 0 0;\n",
              "      width: 32px;\n",
              "    }\n",
              "\n",
              "    .colab-df-convert:hover {\n",
              "      background-color: #E2EBFA;\n",
              "      box-shadow: 0px 1px 2px rgba(60, 64, 67, 0.3), 0px 1px 3px 1px rgba(60, 64, 67, 0.15);\n",
              "      fill: #174EA6;\n",
              "    }\n",
              "\n",
              "    [theme=dark] .colab-df-convert {\n",
              "      background-color: #3B4455;\n",
              "      fill: #D2E3FC;\n",
              "    }\n",
              "\n",
              "    [theme=dark] .colab-df-convert:hover {\n",
              "      background-color: #434B5C;\n",
              "      box-shadow: 0px 1px 3px 1px rgba(0, 0, 0, 0.15);\n",
              "      filter: drop-shadow(0px 1px 2px rgba(0, 0, 0, 0.3));\n",
              "      fill: #FFFFFF;\n",
              "    }\n",
              "  </style>\n",
              "\n",
              "      <script>\n",
              "        const buttonEl =\n",
              "          document.querySelector('#df-c0469c86-417e-4221-9362-26b92fda508d button.colab-df-convert');\n",
              "        buttonEl.style.display =\n",
              "          google.colab.kernel.accessAllowed ? 'block' : 'none';\n",
              "\n",
              "        async function convertToInteractive(key) {\n",
              "          const element = document.querySelector('#df-c0469c86-417e-4221-9362-26b92fda508d');\n",
              "          const dataTable =\n",
              "            await google.colab.kernel.invokeFunction('convertToInteractive',\n",
              "                                                     [key], {});\n",
              "          if (!dataTable) return;\n",
              "\n",
              "          const docLinkHtml = 'Like what you see? Visit the ' +\n",
              "            '<a target=\"_blank\" href=https://colab.research.google.com/notebooks/data_table.ipynb>data table notebook</a>'\n",
              "            + ' to learn more about interactive tables.';\n",
              "          element.innerHTML = '';\n",
              "          dataTable['output_type'] = 'display_data';\n",
              "          await google.colab.output.renderOutput(dataTable, element);\n",
              "          const docLink = document.createElement('div');\n",
              "          docLink.innerHTML = docLinkHtml;\n",
              "          element.appendChild(docLink);\n",
              "        }\n",
              "      </script>\n",
              "    </div>\n",
              "  </div>\n",
              "  "
            ]
          },
          "metadata": {},
          "execution_count": 23
        }
      ],
      "source": [
        "# normalisasi Standard Scaler\n",
        "scaler = StandardScaler()\n",
        "cleaned_df3[num] = scaler.fit_transform(cleaned_df3[num])\n",
        "cleaned_df3"
      ]
    },
    {
      "cell_type": "markdown",
      "metadata": {
        "id": "RmTf_pQ666eQ"
      },
      "source": [
        "Dilakukan normalisasi pada tahap ini yaitu normalisasi skala untuk mengubah skala data menjadi rentang yang sama agar hasil analisis ini tidak bias."
      ]
    },
    {
      "cell_type": "markdown",
      "metadata": {
        "id": "7rJvfe9mgTGI"
      },
      "source": [
        "## Feature Encoding"
      ]
    },
    {
      "cell_type": "code",
      "execution_count": null,
      "metadata": {
        "colab": {
          "base_uri": "https://localhost:8080/",
          "height": 505
        },
        "id": "ArpXzvx5nUeF",
        "outputId": "7e988449-ae0e-4d83-ee0e-f21c8cb45f33"
      },
      "outputs": [
        {
          "output_type": "execute_result",
          "data": {
            "text/plain": [
              "        usia  durasi_aktivitas       spf  jenis_kelamin_Laki-Laki  \\\n",
              "0   0.612372         -0.340355 -2.241894                        0   \n",
              "1   0.612372         -0.007845 -2.241894                        0   \n",
              "2  -1.632993          1.654706 -2.241894                        0   \n",
              "3  -0.510310          0.989686 -2.241894                        1   \n",
              "4  -0.510310          1.654706 -2.241894                        1   \n",
              "..       ...               ...       ...                      ...   \n",
              "76  0.612372         -1.116212 -0.065938                        0   \n",
              "77  0.612372          0.324665  0.659380                        1   \n",
              "78 -0.510310          1.654706  0.659380                        0   \n",
              "79 -0.510310         -0.340355 -2.241894                        0   \n",
              "80  0.612372          1.322196  0.659380                        0   \n",
              "\n",
              "    jenis_kelamin_Perempuan  jenis_kulit_Berminyak  jenis_kulit_Kering  \\\n",
              "0                         1                      1                   0   \n",
              "1                         1                      0                   0   \n",
              "2                         1                      0                   0   \n",
              "3                         0                      1                   0   \n",
              "4                         0                      0                   0   \n",
              "..                      ...                    ...                 ...   \n",
              "76                        1                      0                   0   \n",
              "77                        0                      0                   0   \n",
              "78                        1                      0                   0   \n",
              "79                        1                      0                   0   \n",
              "80                        1                      1                   0   \n",
              "\n",
              "    jenis_kulit_Kombinasi  jenis_kulit_Normal  jenis_kulit_Sensitif  \\\n",
              "0                       0                   0                     0   \n",
              "1                       0                   1                     0   \n",
              "2                       1                   0                     0   \n",
              "3                       0                   0                     0   \n",
              "4                       0                   1                     0   \n",
              "..                    ...                 ...                   ...   \n",
              "76                      1                   0                     0   \n",
              "77                      0                   1                     0   \n",
              "78                      0                   0                     1   \n",
              "79                      1                   0                     0   \n",
              "80                      0                   0                     0   \n",
              "\n",
              "    tekstur_ss_Cream  tekstur_ss_Gel  tekstur_ss_Lotion  tekstur_ss_Spray  \\\n",
              "0                  0               1                  0                 0   \n",
              "1                  0               1                  0                 0   \n",
              "2                  0               0                  1                 0   \n",
              "3                  0               1                  0                 0   \n",
              "4                  1               0                  0                 0   \n",
              "..               ...             ...                ...               ...   \n",
              "76                 0               1                  0                 0   \n",
              "77                 0               0                  1                 0   \n",
              "78                 0               0                  1                 0   \n",
              "79                 1               0                  0                 0   \n",
              "80                 0               0                  1                 0   \n",
              "\n",
              "    jenis_ss  \n",
              "0          1  \n",
              "1          1  \n",
              "2          1  \n",
              "3          1  \n",
              "4          1  \n",
              "..       ...  \n",
              "76         1  \n",
              "77         0  \n",
              "78         1  \n",
              "79         0  \n",
              "80         0  \n",
              "\n",
              "[77 rows x 15 columns]"
            ],
            "text/html": [
              "\n",
              "  <div id=\"df-55f8cc12-5900-4d6e-8ba4-db9cfb33125c\">\n",
              "    <div class=\"colab-df-container\">\n",
              "      <div>\n",
              "<style scoped>\n",
              "    .dataframe tbody tr th:only-of-type {\n",
              "        vertical-align: middle;\n",
              "    }\n",
              "\n",
              "    .dataframe tbody tr th {\n",
              "        vertical-align: top;\n",
              "    }\n",
              "\n",
              "    .dataframe thead th {\n",
              "        text-align: right;\n",
              "    }\n",
              "</style>\n",
              "<table border=\"1\" class=\"dataframe\">\n",
              "  <thead>\n",
              "    <tr style=\"text-align: right;\">\n",
              "      <th></th>\n",
              "      <th>usia</th>\n",
              "      <th>durasi_aktivitas</th>\n",
              "      <th>spf</th>\n",
              "      <th>jenis_kelamin_Laki-Laki</th>\n",
              "      <th>jenis_kelamin_Perempuan</th>\n",
              "      <th>jenis_kulit_Berminyak</th>\n",
              "      <th>jenis_kulit_Kering</th>\n",
              "      <th>jenis_kulit_Kombinasi</th>\n",
              "      <th>jenis_kulit_Normal</th>\n",
              "      <th>jenis_kulit_Sensitif</th>\n",
              "      <th>tekstur_ss_Cream</th>\n",
              "      <th>tekstur_ss_Gel</th>\n",
              "      <th>tekstur_ss_Lotion</th>\n",
              "      <th>tekstur_ss_Spray</th>\n",
              "      <th>jenis_ss</th>\n",
              "    </tr>\n",
              "  </thead>\n",
              "  <tbody>\n",
              "    <tr>\n",
              "      <th>0</th>\n",
              "      <td>0.612372</td>\n",
              "      <td>-0.340355</td>\n",
              "      <td>-2.241894</td>\n",
              "      <td>0</td>\n",
              "      <td>1</td>\n",
              "      <td>1</td>\n",
              "      <td>0</td>\n",
              "      <td>0</td>\n",
              "      <td>0</td>\n",
              "      <td>0</td>\n",
              "      <td>0</td>\n",
              "      <td>1</td>\n",
              "      <td>0</td>\n",
              "      <td>0</td>\n",
              "      <td>1</td>\n",
              "    </tr>\n",
              "    <tr>\n",
              "      <th>1</th>\n",
              "      <td>0.612372</td>\n",
              "      <td>-0.007845</td>\n",
              "      <td>-2.241894</td>\n",
              "      <td>0</td>\n",
              "      <td>1</td>\n",
              "      <td>0</td>\n",
              "      <td>0</td>\n",
              "      <td>0</td>\n",
              "      <td>1</td>\n",
              "      <td>0</td>\n",
              "      <td>0</td>\n",
              "      <td>1</td>\n",
              "      <td>0</td>\n",
              "      <td>0</td>\n",
              "      <td>1</td>\n",
              "    </tr>\n",
              "    <tr>\n",
              "      <th>2</th>\n",
              "      <td>-1.632993</td>\n",
              "      <td>1.654706</td>\n",
              "      <td>-2.241894</td>\n",
              "      <td>0</td>\n",
              "      <td>1</td>\n",
              "      <td>0</td>\n",
              "      <td>0</td>\n",
              "      <td>1</td>\n",
              "      <td>0</td>\n",
              "      <td>0</td>\n",
              "      <td>0</td>\n",
              "      <td>0</td>\n",
              "      <td>1</td>\n",
              "      <td>0</td>\n",
              "      <td>1</td>\n",
              "    </tr>\n",
              "    <tr>\n",
              "      <th>3</th>\n",
              "      <td>-0.510310</td>\n",
              "      <td>0.989686</td>\n",
              "      <td>-2.241894</td>\n",
              "      <td>1</td>\n",
              "      <td>0</td>\n",
              "      <td>1</td>\n",
              "      <td>0</td>\n",
              "      <td>0</td>\n",
              "      <td>0</td>\n",
              "      <td>0</td>\n",
              "      <td>0</td>\n",
              "      <td>1</td>\n",
              "      <td>0</td>\n",
              "      <td>0</td>\n",
              "      <td>1</td>\n",
              "    </tr>\n",
              "    <tr>\n",
              "      <th>4</th>\n",
              "      <td>-0.510310</td>\n",
              "      <td>1.654706</td>\n",
              "      <td>-2.241894</td>\n",
              "      <td>1</td>\n",
              "      <td>0</td>\n",
              "      <td>0</td>\n",
              "      <td>0</td>\n",
              "      <td>0</td>\n",
              "      <td>1</td>\n",
              "      <td>0</td>\n",
              "      <td>1</td>\n",
              "      <td>0</td>\n",
              "      <td>0</td>\n",
              "      <td>0</td>\n",
              "      <td>1</td>\n",
              "    </tr>\n",
              "    <tr>\n",
              "      <th>...</th>\n",
              "      <td>...</td>\n",
              "      <td>...</td>\n",
              "      <td>...</td>\n",
              "      <td>...</td>\n",
              "      <td>...</td>\n",
              "      <td>...</td>\n",
              "      <td>...</td>\n",
              "      <td>...</td>\n",
              "      <td>...</td>\n",
              "      <td>...</td>\n",
              "      <td>...</td>\n",
              "      <td>...</td>\n",
              "      <td>...</td>\n",
              "      <td>...</td>\n",
              "      <td>...</td>\n",
              "    </tr>\n",
              "    <tr>\n",
              "      <th>76</th>\n",
              "      <td>0.612372</td>\n",
              "      <td>-1.116212</td>\n",
              "      <td>-0.065938</td>\n",
              "      <td>0</td>\n",
              "      <td>1</td>\n",
              "      <td>0</td>\n",
              "      <td>0</td>\n",
              "      <td>1</td>\n",
              "      <td>0</td>\n",
              "      <td>0</td>\n",
              "      <td>0</td>\n",
              "      <td>1</td>\n",
              "      <td>0</td>\n",
              "      <td>0</td>\n",
              "      <td>1</td>\n",
              "    </tr>\n",
              "    <tr>\n",
              "      <th>77</th>\n",
              "      <td>0.612372</td>\n",
              "      <td>0.324665</td>\n",
              "      <td>0.659380</td>\n",
              "      <td>1</td>\n",
              "      <td>0</td>\n",
              "      <td>0</td>\n",
              "      <td>0</td>\n",
              "      <td>0</td>\n",
              "      <td>1</td>\n",
              "      <td>0</td>\n",
              "      <td>0</td>\n",
              "      <td>0</td>\n",
              "      <td>1</td>\n",
              "      <td>0</td>\n",
              "      <td>0</td>\n",
              "    </tr>\n",
              "    <tr>\n",
              "      <th>78</th>\n",
              "      <td>-0.510310</td>\n",
              "      <td>1.654706</td>\n",
              "      <td>0.659380</td>\n",
              "      <td>0</td>\n",
              "      <td>1</td>\n",
              "      <td>0</td>\n",
              "      <td>0</td>\n",
              "      <td>0</td>\n",
              "      <td>0</td>\n",
              "      <td>1</td>\n",
              "      <td>0</td>\n",
              "      <td>0</td>\n",
              "      <td>1</td>\n",
              "      <td>0</td>\n",
              "      <td>1</td>\n",
              "    </tr>\n",
              "    <tr>\n",
              "      <th>79</th>\n",
              "      <td>-0.510310</td>\n",
              "      <td>-0.340355</td>\n",
              "      <td>-2.241894</td>\n",
              "      <td>0</td>\n",
              "      <td>1</td>\n",
              "      <td>0</td>\n",
              "      <td>0</td>\n",
              "      <td>1</td>\n",
              "      <td>0</td>\n",
              "      <td>0</td>\n",
              "      <td>1</td>\n",
              "      <td>0</td>\n",
              "      <td>0</td>\n",
              "      <td>0</td>\n",
              "      <td>0</td>\n",
              "    </tr>\n",
              "    <tr>\n",
              "      <th>80</th>\n",
              "      <td>0.612372</td>\n",
              "      <td>1.322196</td>\n",
              "      <td>0.659380</td>\n",
              "      <td>0</td>\n",
              "      <td>1</td>\n",
              "      <td>1</td>\n",
              "      <td>0</td>\n",
              "      <td>0</td>\n",
              "      <td>0</td>\n",
              "      <td>0</td>\n",
              "      <td>0</td>\n",
              "      <td>0</td>\n",
              "      <td>1</td>\n",
              "      <td>0</td>\n",
              "      <td>0</td>\n",
              "    </tr>\n",
              "  </tbody>\n",
              "</table>\n",
              "<p>77 rows × 15 columns</p>\n",
              "</div>\n",
              "      <button class=\"colab-df-convert\" onclick=\"convertToInteractive('df-55f8cc12-5900-4d6e-8ba4-db9cfb33125c')\"\n",
              "              title=\"Convert this dataframe to an interactive table.\"\n",
              "              style=\"display:none;\">\n",
              "        \n",
              "  <svg xmlns=\"http://www.w3.org/2000/svg\" height=\"24px\"viewBox=\"0 0 24 24\"\n",
              "       width=\"24px\">\n",
              "    <path d=\"M0 0h24v24H0V0z\" fill=\"none\"/>\n",
              "    <path d=\"M18.56 5.44l.94 2.06.94-2.06 2.06-.94-2.06-.94-.94-2.06-.94 2.06-2.06.94zm-11 1L8.5 8.5l.94-2.06 2.06-.94-2.06-.94L8.5 2.5l-.94 2.06-2.06.94zm10 10l.94 2.06.94-2.06 2.06-.94-2.06-.94-.94-2.06-.94 2.06-2.06.94z\"/><path d=\"M17.41 7.96l-1.37-1.37c-.4-.4-.92-.59-1.43-.59-.52 0-1.04.2-1.43.59L10.3 9.45l-7.72 7.72c-.78.78-.78 2.05 0 2.83L4 21.41c.39.39.9.59 1.41.59.51 0 1.02-.2 1.41-.59l7.78-7.78 2.81-2.81c.8-.78.8-2.07 0-2.86zM5.41 20L4 18.59l7.72-7.72 1.47 1.35L5.41 20z\"/>\n",
              "  </svg>\n",
              "      </button>\n",
              "      \n",
              "  <style>\n",
              "    .colab-df-container {\n",
              "      display:flex;\n",
              "      flex-wrap:wrap;\n",
              "      gap: 12px;\n",
              "    }\n",
              "\n",
              "    .colab-df-convert {\n",
              "      background-color: #E8F0FE;\n",
              "      border: none;\n",
              "      border-radius: 50%;\n",
              "      cursor: pointer;\n",
              "      display: none;\n",
              "      fill: #1967D2;\n",
              "      height: 32px;\n",
              "      padding: 0 0 0 0;\n",
              "      width: 32px;\n",
              "    }\n",
              "\n",
              "    .colab-df-convert:hover {\n",
              "      background-color: #E2EBFA;\n",
              "      box-shadow: 0px 1px 2px rgba(60, 64, 67, 0.3), 0px 1px 3px 1px rgba(60, 64, 67, 0.15);\n",
              "      fill: #174EA6;\n",
              "    }\n",
              "\n",
              "    [theme=dark] .colab-df-convert {\n",
              "      background-color: #3B4455;\n",
              "      fill: #D2E3FC;\n",
              "    }\n",
              "\n",
              "    [theme=dark] .colab-df-convert:hover {\n",
              "      background-color: #434B5C;\n",
              "      box-shadow: 0px 1px 3px 1px rgba(0, 0, 0, 0.15);\n",
              "      filter: drop-shadow(0px 1px 2px rgba(0, 0, 0, 0.3));\n",
              "      fill: #FFFFFF;\n",
              "    }\n",
              "  </style>\n",
              "\n",
              "      <script>\n",
              "        const buttonEl =\n",
              "          document.querySelector('#df-55f8cc12-5900-4d6e-8ba4-db9cfb33125c button.colab-df-convert');\n",
              "        buttonEl.style.display =\n",
              "          google.colab.kernel.accessAllowed ? 'block' : 'none';\n",
              "\n",
              "        async function convertToInteractive(key) {\n",
              "          const element = document.querySelector('#df-55f8cc12-5900-4d6e-8ba4-db9cfb33125c');\n",
              "          const dataTable =\n",
              "            await google.colab.kernel.invokeFunction('convertToInteractive',\n",
              "                                                     [key], {});\n",
              "          if (!dataTable) return;\n",
              "\n",
              "          const docLinkHtml = 'Like what you see? Visit the ' +\n",
              "            '<a target=\"_blank\" href=https://colab.research.google.com/notebooks/data_table.ipynb>data table notebook</a>'\n",
              "            + ' to learn more about interactive tables.';\n",
              "          element.innerHTML = '';\n",
              "          dataTable['output_type'] = 'display_data';\n",
              "          await google.colab.output.renderOutput(dataTable, element);\n",
              "          const docLink = document.createElement('div');\n",
              "          docLink.innerHTML = docLinkHtml;\n",
              "          element.appendChild(docLink);\n",
              "        }\n",
              "      </script>\n",
              "    </div>\n",
              "  </div>\n",
              "  "
            ]
          },
          "metadata": {},
          "execution_count": 24
        }
      ],
      "source": [
        "# melakukan one-hot encoding pada setiap variabel kategorikal\n",
        "ss_final = cleaned_df3\n",
        "for var in cat:\n",
        "    encoded_features = pd.get_dummies(ss_final[var], prefix=var)\n",
        "    ss_final = pd.concat([ss_final, encoded_features], axis=1)\n",
        "    ss_final.drop(var, axis=1, inplace=True)\n",
        "\n",
        "# menggabungkan kolom \"jenis_ss_Chemical\" dan \"jenis_ss_Physical\" menjadi satu kolom \"jenis_ss\"\n",
        "ss_final['jenis_ss'] = ss_final['jenis_ss_Chemical'].apply(lambda x: 1 if x == 1 else 0)\n",
        "\n",
        "# menghapus kolom \"jenis_ss_Chemical\" dan \"jenis_ss_Physical\"\n",
        "ss_final.drop(['jenis_ss_Chemical', 'jenis_ss_Physical'], axis=1, inplace=True)\n",
        "\n",
        "# chemical = 1, physical = 0\n",
        "ss_final"
      ]
    },
    {
      "cell_type": "markdown",
      "metadata": {
        "id": "n-jatx2-P1X6"
      },
      "source": [
        "## Check Imbalance Data"
      ]
    },
    {
      "cell_type": "code",
      "execution_count": null,
      "metadata": {
        "colab": {
          "base_uri": "https://localhost:8080/"
        },
        "id": "IRM4vL-7WkLQ",
        "outputId": "00bb241e-eec1-48f4-b471-2df8e421a36e"
      },
      "outputs": [
        {
          "output_type": "stream",
          "name": "stdout",
          "text": [
            "1    45\n",
            "0    32\n",
            "Name: jenis_ss, dtype: int64\n"
          ]
        }
      ],
      "source": [
        "# imbalance\n",
        "counts_before = ss_final['jenis_ss'].value_counts()\n",
        "print(counts_before)"
      ]
    },
    {
      "cell_type": "markdown",
      "metadata": {
        "id": "ZwsKN_PB9A3A"
      },
      "source": [
        "Dari proses pengecekan imbalance data, terlihat bahwa responden yang menggunakan sunscreen jenis chemical (1) sebanyak 45 responden atau sebesar 58% dan sunscreen jenis physical (0) sebanyak 32 responden atau sebesar 42%. Jumlah responden dari masing-masing kategori tidak menunjukkan adanya perbedaan yang terlalu signifikan antar kelas atau kategori, sehingga bisa disimpulkan tidak terjadi imbalance data pada dataset yang digunakan."
      ]
    },
    {
      "cell_type": "markdown",
      "metadata": {
        "id": "A5RMZo6Z1789"
      },
      "source": [
        "# Data Visualization"
      ]
    },
    {
      "cell_type": "markdown",
      "metadata": {
        "id": "a5ucnARXvW7_"
      },
      "source": [
        "## Sebelum Data Preprocessing"
      ]
    },
    {
      "cell_type": "code",
      "execution_count": null,
      "metadata": {
        "colab": {
          "base_uri": "https://localhost:8080/",
          "height": 472
        },
        "id": "yXgmlH1aGJPr",
        "outputId": "e8990891-5cb1-4282-ab97-37d501875489"
      },
      "outputs": [
        {
          "output_type": "display_data",
          "data": {
            "text/plain": [
              "<Figure size 640x480 with 1 Axes>"
            ],
            "image/png": "[encoded data removed]"
          },
          "metadata": {}
        }
      ],
      "source": [
        "# histogram usia\n",
        "plt.hist(cleaned_df3['usia'], bins=4, edgecolor='white', color='#ff39aa')\n",
        "\n",
        "# label pada sumbu x dan y\n",
        "plt.xlabel('Usia')\n",
        "plt.ylabel('Frekuensi')\n",
        "\n",
        "# judul\n",
        "plt.title('Distribusi Usia')\n",
        "\n",
        "# menampilkan plot\n",
        "plt.show()"
      ]
    },
    {
      "cell_type": "code",
      "execution_count": null,
      "metadata": {
        "colab": {
          "base_uri": "https://localhost:8080/",
          "height": 472
        },
        "id": "knHI4PP-H0gM",
        "outputId": "0cb776a9-6163-4940-e232-30940d463a95"
      },
      "outputs": [
        {
          "output_type": "display_data",
          "data": {
            "text/plain": [
              "<Figure size 640x480 with 1 Axes>"
            ],
            "image/png": "[encoded data removed]"
          },
          "metadata": {}
        }
      ],
      "source": [
        "# histogram durasi aktivitas\n",
        "plt.hist(sunscreen['durasi_aktivitas'], bins=10, edgecolor='white', color='#bdff00')\n",
        "\n",
        "# label pada sumbu x dan y\n",
        "plt.xlabel('Durasi Aktivitas di Luar Ruangan')\n",
        "plt.ylabel('Frekuensi')\n",
        "\n",
        "# judul\n",
        "plt.title('Distribusi Durasi Aktivitas di Luar Ruangan')\n",
        "\n",
        "# menampilkan plot\n",
        "plt.show()"
      ]
    },
    {
      "cell_type": "code",
      "execution_count": null,
      "metadata": {
        "colab": {
          "base_uri": "https://localhost:8080/",
          "height": 472
        },
        "id": "SmydnNZsI4h4",
        "outputId": "ff419810-10ae-49a2-ceb2-eaa378273a49"
      },
      "outputs": [
        {
          "output_type": "display_data",
          "data": {
            "text/plain": [
              "<Figure size 640x480 with 1 Axes>"
            ],
            "image/png": "[encoded data removed]"
          },
          "metadata": {}
        }
      ],
      "source": [
        "# histogram spf\n",
        "plt.hist(sunscreen['spf'], bins=10, edgecolor='white', color='#c97dff')\n",
        "\n",
        "# label pada sumbu x dan y\n",
        "plt.xlabel('SPF Sunscreen')\n",
        "plt.ylabel('Frekuensi')\n",
        "\n",
        "# judul\n",
        "plt.title('Distribusi SPF Sunscreen')\n",
        "\n",
        "# menampilkan plot\n",
        "plt.show()"
      ]
    },
    {
      "cell_type": "code",
      "execution_count": null,
      "metadata": {
        "colab": {
          "base_uri": "https://localhost:8080/",
          "height": 428
        },
        "id": "LEnT4-OVObUV",
        "outputId": "d8beaeb8-d617-427e-b772-a55d95037132"
      },
      "outputs": [
        {
          "output_type": "display_data",
          "data": {
            "text/plain": [
              "<Figure size 640x480 with 1 Axes>"
            ],
            "image/png": "[encoded data removed]"
          },
          "metadata": {}
        }
      ],
      "source": [
        "# pie chart jenis kelamin\n",
        "# menghitung frekuensi masing-masing kategori\n",
        "counts_jenis_kelamin = sunscreen['jenis_kelamin'].value_counts()\n",
        "\n",
        "# mengambil kategori dan persentase\n",
        "cat_jenis_kelamin = counts_jenis_kelamin.index\n",
        "percent_jenis_kelamin = (counts_jenis_kelamin / len(sunscreen)) * 100\n",
        "\n",
        "# warna pie chart\n",
        "warna = ['#ff39aa', '#bdff00']\n",
        "\n",
        "# membuat pie chart\n",
        "plt.pie(percent_jenis_kelamin, labels=cat_jenis_kelamin, autopct='%1.1f%%', colors=warna)\n",
        "\n",
        "# judul\n",
        "plt.title('Pie Chart Jenis Kelamin')\n",
        "\n",
        "# Menampilkan plot\n",
        "plt.show()"
      ]
    },
    {
      "cell_type": "code",
      "execution_count": null,
      "metadata": {
        "colab": {
          "base_uri": "https://localhost:8080/",
          "height": 472
        },
        "id": "53eKnYMMJOrj",
        "outputId": "77ae21ec-1fcd-47d6-c92b-0a9304be53b8"
      },
      "outputs": [
        {
          "output_type": "display_data",
          "data": {
            "text/plain": [
              "<Figure size 640x480 with 1 Axes>"
            ],
            "image/png": "[encoded data removed]"
          },
          "metadata": {}
        }
      ],
      "source": [
        "# bar plot jenis kulit\n",
        "# menghitung frekuensi masing-masing kategori\n",
        "counts_jenis_kulit = sunscreen['jenis_kulit'].value_counts()\n",
        "\n",
        "# mengambil kategori dan frekuensi\n",
        "cat_jenis_kulit = counts_jenis_kulit.index\n",
        "freq_jenis_kulit = counts_jenis_kulit.values\n",
        "\n",
        "# membuat bar plot\n",
        "plt.bar(cat_jenis_kulit, freq_jenis_kulit, edgecolor='white', color='#c97dff')\n",
        "\n",
        "# label pada sumbu x dan y\n",
        "plt.xlabel('Kategori')\n",
        "plt.ylabel('Frekuensi')\n",
        "\n",
        "# judul\n",
        "plt.title('Bar Plot Jenis Kulit')\n",
        "\n",
        "# Menampilkan plot\n",
        "plt.show()"
      ]
    },
    {
      "cell_type": "code",
      "execution_count": null,
      "metadata": {
        "colab": {
          "base_uri": "https://localhost:8080/",
          "height": 472
        },
        "id": "4GgW-RDpQmG-",
        "outputId": "85b968bb-39b1-4610-a33b-42247317074d"
      },
      "outputs": [
        {
          "output_type": "display_data",
          "data": {
            "text/plain": [
              "<Figure size 640x480 with 1 Axes>"
            ],
            "image/png": "[encoded data removed]"
          },
          "metadata": {}
        }
      ],
      "source": [
        "# bar plot tekstur sunscreen\n",
        "# menghitung frekuensi masing-masing kategori\n",
        "counts_tekstur_ss = sunscreen['tekstur_ss'].value_counts()\n",
        "\n",
        "# mengambil kategori dan frekuensi\n",
        "cat_tekstur_ss = counts_tekstur_ss.index\n",
        "freq_tekstur_ss = counts_tekstur_ss.values\n",
        "\n",
        "# membuat bar plot\n",
        "plt.bar(cat_tekstur_ss, freq_tekstur_ss, edgecolor='white', color='#ff39aa')\n",
        "\n",
        "# label pada sumbu x dan y\n",
        "plt.xlabel('Kategori')\n",
        "plt.ylabel('Frekuensi')\n",
        "\n",
        "# judul\n",
        "plt.title('Bar Plot Tekstur Sunscreen')\n",
        "\n",
        "# Menampilkan plot\n",
        "plt.show()"
      ]
    },
    {
      "cell_type": "markdown",
      "source": [
        "Dari visualisasi diatas dapat disimpulkan bahwa tekstur sunscreen yang serng dipakai mahasiswa TSD berdasarkan survey adalah tekstur lotion, dilanjutkan dengan tekstur Gel, Cream, dan Spray"
      ],
      "metadata": {
        "id": "Dp2P-Tybdykb"
      }
    },
    {
      "cell_type": "code",
      "execution_count": null,
      "metadata": {
        "colab": {
          "base_uri": "https://localhost:8080/",
          "height": 428
        },
        "id": "ydlr5FX9Rl3s",
        "outputId": "bd981e5b-fa77-4c3a-c98b-9d24c293ca23"
      },
      "outputs": [
        {
          "output_type": "display_data",
          "data": {
            "text/plain": [
              "<Figure size 640x480 with 1 Axes>"
            ],
            "image/png": "[encoded data removed]"
          },
          "metadata": {}
        }
      ],
      "source": [
        "# pie chart jenis sunscreen\n",
        "# menghitung frekuensi masing-masing kategori\n",
        "counts_jenis_ss = sunscreen['jenis_ss'].value_counts()\n",
        "\n",
        "# mengambil kategori dan persentase\n",
        "cat_jenis_ss = counts_jenis_ss.index\n",
        "percent_jenis_ss = (counts_jenis_ss / len(sunscreen)) * 100\n",
        "\n",
        "# warna pie chart\n",
        "warna = ['#bdff00', '#c97dff']\n",
        "\n",
        "# membuat pie chart\n",
        "plt.pie(percent_jenis_ss, labels=cat_jenis_ss, autopct='%1.1f%%', colors=warna)\n",
        "\n",
        "# judul\n",
        "plt.title('Pie Chart Jenis Sunscreen')\n",
        "\n",
        "# Menampilkan plot\n",
        "plt.show()"
      ]
    },
    {
      "cell_type": "markdown",
      "source": [
        "Dari hasil survey preferensi skincare mahasiswa TSD didapatkan 58% mahasiswa TSD menggunakan sunscreen dengan jenis chemical, dan 42% sisanya menggunakan sunscreen dengan jenis physical"
      ],
      "metadata": {
        "id": "oaIA01MYdgS1"
      }
    },
    {
      "cell_type": "markdown",
      "metadata": {
        "id": "ZzyEW0kMv2_8"
      },
      "source": [
        "## Setelah Data Preprocessing"
      ]
    },
    {
      "cell_type": "code",
      "source": [
        "# Membuat figure dan axis\n",
        "fig, ax = plt.subplots()\n",
        "\n",
        "# Menetapkan warna boxplot\n",
        "boxplot = ax.boxplot([ss_final[col] for col in num], patch_artist=True)\n",
        "\n",
        "# Mengatur warna boxplot\n",
        "colors = ['#ff39aa', '#bdff00', '#c97dff']\n",
        "for patch, color in zip(boxplot['boxes'], colors):\n",
        "    patch.set_facecolor(color)\n",
        "\n",
        "# Menetapkan label tick pada sumbu x\n",
        "ax.set_xticklabels(num)\n",
        "\n",
        "# Menetapkan label pada sumbu y\n",
        "ax.set_ylabel('Nilai')\n",
        "\n",
        "# Menetapkan judul plot\n",
        "ax.set_title('Setelah Preprocessing')\n",
        "\n",
        "# Mengganti warna garis median pada boxplot\n",
        "for line in boxplot['medians']:\n",
        "    line.set_color('red')\n",
        "\n",
        "# Menampilkan plot\n",
        "plt.show()"
      ],
      "metadata": {
        "colab": {
          "base_uri": "https://localhost:8080/",
          "height": 452
        },
        "id": "1YrI0CIpCpIC",
        "outputId": "7ed092ad-57d3-4ef6-e118-95c1cbabf68a"
      },
      "execution_count": null,
      "outputs": [
        {
          "output_type": "display_data",
          "data": {
            "text/plain": [
              "<Figure size 640x480 with 1 Axes>"
            ],
            "image/png": "[encoded data removed]"
          },
          "metadata": {}
        }
      ]
    },
    {
      "cell_type": "code",
      "execution_count": null,
      "metadata": {
        "colab": {
          "base_uri": "https://localhost:8080/",
          "height": 618
        },
        "id": "D8auhTmRSKak",
        "outputId": "22b0deed-f9ae-4e5a-fb6a-f44a37e99119"
      },
      "outputs": [
        {
          "output_type": "display_data",
          "data": {
            "text/plain": [
              "<Figure size 640x480 with 2 Axes>"
            ],
            "image/png": "[encoded data removed]"
          },
          "metadata": {}
        }
      ],
      "source": [
        "# heatmap\n",
        "# warna\n",
        "colors = [(0, '#bdff00'), (0.5, '#FFF'), (1, '#ff39aa')]\n",
        "cmap_custom = LinearSegmentedColormap.from_list('custom_cmap', colors)\n",
        "\n",
        "# membuat heatmap\n",
        "heatmap = sns.heatmap(ss_final.corr(), annot=True, cmap=cmap_custom, annot_kws={'fontsize': 5})\n",
        "\n",
        "# judul\n",
        "heatmap.set_title('Heatmap')\n",
        "\n",
        "# menampilkan heatmap\n",
        "plt.show()"
      ]
    },
    {
      "cell_type": "markdown",
      "source": [
        "Dari visualisasi di atas, bisa dilihat bahwa atribut X dan y yang memiliki korelasi positif tertinggi adalah atribut tekstur_ss_gel (X) dengan jenis_ss (y) yaitu sebesar 0,34 dan juga korelasi positif terendah adalah atribut jenis_kulit_kering (X) dengan jenis_ss (y) yaitu sebesar 0,028. Sedangkan untuk korelasi negatif tertinggi terjadi antara atribut spf (X) dan atribut jenis_ss (y) yaitu sebesar -0,27 serta korelasi negatif terendah terjadi antara atribut jenis_kulit_sensitif (X) dan atribut jenis_ss (y) yaitu sebesar -0,05. Dari heatmap di atas juga dapat disimpulkan sebagai berikut.\n",
        "- Individu yang memilih tekstur sunscreen gel akan cenderung memilih jenis_ss chemical.\n",
        "- Individu yang memiliki jenis kulit kering akan cenderung memilih jenis_ss chemical.\n",
        "- Individu yang memiliki jenis kulit sensitif akan cenderung memilih jenis_ss physical.\n",
        "- Semakin tinggi tingkat SPF yang dibutuhkan individu, maka akan cenderung memilih jenis_ss physical."
      ],
      "metadata": {
        "id": "LUYJ7mmDANqZ"
      }
    },
    {
      "cell_type": "markdown",
      "metadata": {
        "id": "a5Q0UUZa4u2V"
      },
      "source": [
        "# Classification"
      ]
    },
    {
      "cell_type": "code",
      "execution_count": null,
      "metadata": {
        "colab": {
          "base_uri": "https://localhost:8080/",
          "height": 505
        },
        "id": "0OotoM6Gg4GR",
        "outputId": "39a46f68-e0a5-4d18-ba9f-cf8a223d4554"
      },
      "outputs": [
        {
          "output_type": "execute_result",
          "data": {
            "text/plain": [
              "        usia  durasi_aktivitas       spf  jenis_kelamin_Laki-Laki  \\\n",
              "0   0.612372         -0.340355 -2.241894                        0   \n",
              "1   0.612372         -0.007845 -2.241894                        0   \n",
              "2  -1.632993          1.654706 -2.241894                        0   \n",
              "3  -0.510310          0.989686 -2.241894                        1   \n",
              "4  -0.510310          1.654706 -2.241894                        1   \n",
              "..       ...               ...       ...                      ...   \n",
              "76  0.612372         -1.116212 -0.065938                        0   \n",
              "77  0.612372          0.324665  0.659380                        1   \n",
              "78 -0.510310          1.654706  0.659380                        0   \n",
              "79 -0.510310         -0.340355 -2.241894                        0   \n",
              "80  0.612372          1.322196  0.659380                        0   \n",
              "\n",
              "    jenis_kelamin_Perempuan  jenis_kulit_Berminyak  jenis_kulit_Kering  \\\n",
              "0                         1                      1                   0   \n",
              "1                         1                      0                   0   \n",
              "2                         1                      0                   0   \n",
              "3                         0                      1                   0   \n",
              "4                         0                      0                   0   \n",
              "..                      ...                    ...                 ...   \n",
              "76                        1                      0                   0   \n",
              "77                        0                      0                   0   \n",
              "78                        1                      0                   0   \n",
              "79                        1                      0                   0   \n",
              "80                        1                      1                   0   \n",
              "\n",
              "    jenis_kulit_Kombinasi  jenis_kulit_Normal  jenis_kulit_Sensitif  \\\n",
              "0                       0                   0                     0   \n",
              "1                       0                   1                     0   \n",
              "2                       1                   0                     0   \n",
              "3                       0                   0                     0   \n",
              "4                       0                   1                     0   \n",
              "..                    ...                 ...                   ...   \n",
              "76                      1                   0                     0   \n",
              "77                      0                   1                     0   \n",
              "78                      0                   0                     1   \n",
              "79                      1                   0                     0   \n",
              "80                      0                   0                     0   \n",
              "\n",
              "    tekstur_ss_Cream  tekstur_ss_Gel  tekstur_ss_Lotion  tekstur_ss_Spray  \n",
              "0                  0               1                  0                 0  \n",
              "1                  0               1                  0                 0  \n",
              "2                  0               0                  1                 0  \n",
              "3                  0               1                  0                 0  \n",
              "4                  1               0                  0                 0  \n",
              "..               ...             ...                ...               ...  \n",
              "76                 0               1                  0                 0  \n",
              "77                 0               0                  1                 0  \n",
              "78                 0               0                  1                 0  \n",
              "79                 1               0                  0                 0  \n",
              "80                 0               0                  1                 0  \n",
              "\n",
              "[77 rows x 14 columns]"
            ],
            "text/html": [
              "\n",
              "  <div id=\"df-2b3b7503-387f-436e-8e21-6c13b586ee99\">\n",
              "    <div class=\"colab-df-container\">\n",
              "      <div>\n",
              "<style scoped>\n",
              "    .dataframe tbody tr th:only-of-type {\n",
              "        vertical-align: middle;\n",
              "    }\n",
              "\n",
              "    .dataframe tbody tr th {\n",
              "        vertical-align: top;\n",
              "    }\n",
              "\n",
              "    .dataframe thead th {\n",
              "        text-align: right;\n",
              "    }\n",
              "</style>\n",
              "<table border=\"1\" class=\"dataframe\">\n",
              "  <thead>\n",
              "    <tr style=\"text-align: right;\">\n",
              "      <th></th>\n",
              "      <th>usia</th>\n",
              "      <th>durasi_aktivitas</th>\n",
              "      <th>spf</th>\n",
              "      <th>jenis_kelamin_Laki-Laki</th>\n",
              "      <th>jenis_kelamin_Perempuan</th>\n",
              "      <th>jenis_kulit_Berminyak</th>\n",
              "      <th>jenis_kulit_Kering</th>\n",
              "      <th>jenis_kulit_Kombinasi</th>\n",
              "      <th>jenis_kulit_Normal</th>\n",
              "      <th>jenis_kulit_Sensitif</th>\n",
              "      <th>tekstur_ss_Cream</th>\n",
              "      <th>tekstur_ss_Gel</th>\n",
              "      <th>tekstur_ss_Lotion</th>\n",
              "      <th>tekstur_ss_Spray</th>\n",
              "    </tr>\n",
              "  </thead>\n",
              "  <tbody>\n",
              "    <tr>\n",
              "      <th>0</th>\n",
              "      <td>0.612372</td>\n",
              "      <td>-0.340355</td>\n",
              "      <td>-2.241894</td>\n",
              "      <td>0</td>\n",
              "      <td>1</td>\n",
              "      <td>1</td>\n",
              "      <td>0</td>\n",
              "      <td>0</td>\n",
              "      <td>0</td>\n",
              "      <td>0</td>\n",
              "      <td>0</td>\n",
              "      <td>1</td>\n",
              "      <td>0</td>\n",
              "      <td>0</td>\n",
              "    </tr>\n",
              "    <tr>\n",
              "      <th>1</th>\n",
              "      <td>0.612372</td>\n",
              "      <td>-0.007845</td>\n",
              "      <td>-2.241894</td>\n",
              "      <td>0</td>\n",
              "      <td>1</td>\n",
              "      <td>0</td>\n",
              "      <td>0</td>\n",
              "      <td>0</td>\n",
              "      <td>1</td>\n",
              "      <td>0</td>\n",
              "      <td>0</td>\n",
              "      <td>1</td>\n",
              "      <td>0</td>\n",
              "      <td>0</td>\n",
              "    </tr>\n",
              "    <tr>\n",
              "      <th>2</th>\n",
              "      <td>-1.632993</td>\n",
              "      <td>1.654706</td>\n",
              "      <td>-2.241894</td>\n",
              "      <td>0</td>\n",
              "      <td>1</td>\n",
              "      <td>0</td>\n",
              "      <td>0</td>\n",
              "      <td>1</td>\n",
              "      <td>0</td>\n",
              "      <td>0</td>\n",
              "      <td>0</td>\n",
              "      <td>0</td>\n",
              "      <td>1</td>\n",
              "      <td>0</td>\n",
              "    </tr>\n",
              "    <tr>\n",
              "      <th>3</th>\n",
              "      <td>-0.510310</td>\n",
              "      <td>0.989686</td>\n",
              "      <td>-2.241894</td>\n",
              "      <td>1</td>\n",
              "      <td>0</td>\n",
              "      <td>1</td>\n",
              "      <td>0</td>\n",
              "      <td>0</td>\n",
              "      <td>0</td>\n",
              "      <td>0</td>\n",
              "      <td>0</td>\n",
              "      <td>1</td>\n",
              "      <td>0</td>\n",
              "      <td>0</td>\n",
              "    </tr>\n",
              "    <tr>\n",
              "      <th>4</th>\n",
              "      <td>-0.510310</td>\n",
              "      <td>1.654706</td>\n",
              "      <td>-2.241894</td>\n",
              "      <td>1</td>\n",
              "      <td>0</td>\n",
              "      <td>0</td>\n",
              "      <td>0</td>\n",
              "      <td>0</td>\n",
              "      <td>1</td>\n",
              "      <td>0</td>\n",
              "      <td>1</td>\n",
              "      <td>0</td>\n",
              "      <td>0</td>\n",
              "      <td>0</td>\n",
              "    </tr>\n",
              "    <tr>\n",
              "      <th>...</th>\n",
              "      <td>...</td>\n",
              "      <td>...</td>\n",
              "      <td>...</td>\n",
              "      <td>...</td>\n",
              "      <td>...</td>\n",
              "      <td>...</td>\n",
              "      <td>...</td>\n",
              "      <td>...</td>\n",
              "      <td>...</td>\n",
              "      <td>...</td>\n",
              "      <td>...</td>\n",
              "      <td>...</td>\n",
              "      <td>...</td>\n",
              "      <td>...</td>\n",
              "    </tr>\n",
              "    <tr>\n",
              "      <th>76</th>\n",
              "      <td>0.612372</td>\n",
              "      <td>-1.116212</td>\n",
              "      <td>-0.065938</td>\n",
              "      <td>0</td>\n",
              "      <td>1</td>\n",
              "      <td>0</td>\n",
              "      <td>0</td>\n",
              "      <td>1</td>\n",
              "      <td>0</td>\n",
              "      <td>0</td>\n",
              "      <td>0</td>\n",
              "      <td>1</td>\n",
              "      <td>0</td>\n",
              "      <td>0</td>\n",
              "    </tr>\n",
              "    <tr>\n",
              "      <th>77</th>\n",
              "      <td>0.612372</td>\n",
              "      <td>0.324665</td>\n",
              "      <td>0.659380</td>\n",
              "      <td>1</td>\n",
              "      <td>0</td>\n",
              "      <td>0</td>\n",
              "      <td>0</td>\n",
              "      <td>0</td>\n",
              "      <td>1</td>\n",
              "      <td>0</td>\n",
              "      <td>0</td>\n",
              "      <td>0</td>\n",
              "      <td>1</td>\n",
              "      <td>0</td>\n",
              "    </tr>\n",
              "    <tr>\n",
              "      <th>78</th>\n",
              "      <td>-0.510310</td>\n",
              "      <td>1.654706</td>\n",
              "      <td>0.659380</td>\n",
              "      <td>0</td>\n",
              "      <td>1</td>\n",
              "      <td>0</td>\n",
              "      <td>0</td>\n",
              "      <td>0</td>\n",
              "      <td>0</td>\n",
              "      <td>1</td>\n",
              "      <td>0</td>\n",
              "      <td>0</td>\n",
              "      <td>1</td>\n",
              "      <td>0</td>\n",
              "    </tr>\n",
              "    <tr>\n",
              "      <th>79</th>\n",
              "      <td>-0.510310</td>\n",
              "      <td>-0.340355</td>\n",
              "      <td>-2.241894</td>\n",
              "      <td>0</td>\n",
              "      <td>1</td>\n",
              "      <td>0</td>\n",
              "      <td>0</td>\n",
              "      <td>1</td>\n",
              "      <td>0</td>\n",
              "      <td>0</td>\n",
              "      <td>1</td>\n",
              "      <td>0</td>\n",
              "      <td>0</td>\n",
              "      <td>0</td>\n",
              "    </tr>\n",
              "    <tr>\n",
              "      <th>80</th>\n",
              "      <td>0.612372</td>\n",
              "      <td>1.322196</td>\n",
              "      <td>0.659380</td>\n",
              "      <td>0</td>\n",
              "      <td>1</td>\n",
              "      <td>1</td>\n",
              "      <td>0</td>\n",
              "      <td>0</td>\n",
              "      <td>0</td>\n",
              "      <td>0</td>\n",
              "      <td>0</td>\n",
              "      <td>0</td>\n",
              "      <td>1</td>\n",
              "      <td>0</td>\n",
              "    </tr>\n",
              "  </tbody>\n",
              "</table>\n",
              "<p>77 rows × 14 columns</p>\n",
              "</div>\n",
              "      <button class=\"colab-df-convert\" onclick=\"convertToInteractive('df-2b3b7503-387f-436e-8e21-6c13b586ee99')\"\n",
              "              title=\"Convert this dataframe to an interactive table.\"\n",
              "              style=\"display:none;\">\n",
              "        \n",
              "  <svg xmlns=\"http://www.w3.org/2000/svg\" height=\"24px\"viewBox=\"0 0 24 24\"\n",
              "       width=\"24px\">\n",
              "    <path d=\"M0 0h24v24H0V0z\" fill=\"none\"/>\n",
              "    <path d=\"M18.56 5.44l.94 2.06.94-2.06 2.06-.94-2.06-.94-.94-2.06-.94 2.06-2.06.94zm-11 1L8.5 8.5l.94-2.06 2.06-.94-2.06-.94L8.5 2.5l-.94 2.06-2.06.94zm10 10l.94 2.06.94-2.06 2.06-.94-2.06-.94-.94-2.06-.94 2.06-2.06.94z\"/><path d=\"M17.41 7.96l-1.37-1.37c-.4-.4-.92-.59-1.43-.59-.52 0-1.04.2-1.43.59L10.3 9.45l-7.72 7.72c-.78.78-.78 2.05 0 2.83L4 21.41c.39.39.9.59 1.41.59.51 0 1.02-.2 1.41-.59l7.78-7.78 2.81-2.81c.8-.78.8-2.07 0-2.86zM5.41 20L4 18.59l7.72-7.72 1.47 1.35L5.41 20z\"/>\n",
              "  </svg>\n",
              "      </button>\n",
              "      \n",
              "  <style>\n",
              "    .colab-df-container {\n",
              "      display:flex;\n",
              "      flex-wrap:wrap;\n",
              "      gap: 12px;\n",
              "    }\n",
              "\n",
              "    .colab-df-convert {\n",
              "      background-color: #E8F0FE;\n",
              "      border: none;\n",
              "      border-radius: 50%;\n",
              "      cursor: pointer;\n",
              "      display: none;\n",
              "      fill: #1967D2;\n",
              "      height: 32px;\n",
              "      padding: 0 0 0 0;\n",
              "      width: 32px;\n",
              "    }\n",
              "\n",
              "    .colab-df-convert:hover {\n",
              "      background-color: #E2EBFA;\n",
              "      box-shadow: 0px 1px 2px rgba(60, 64, 67, 0.3), 0px 1px 3px 1px rgba(60, 64, 67, 0.15);\n",
              "      fill: #174EA6;\n",
              "    }\n",
              "\n",
              "    [theme=dark] .colab-df-convert {\n",
              "      background-color: #3B4455;\n",
              "      fill: #D2E3FC;\n",
              "    }\n",
              "\n",
              "    [theme=dark] .colab-df-convert:hover {\n",
              "      background-color: #434B5C;\n",
              "      box-shadow: 0px 1px 3px 1px rgba(0, 0, 0, 0.15);\n",
              "      filter: drop-shadow(0px 1px 2px rgba(0, 0, 0, 0.3));\n",
              "      fill: #FFFFFF;\n",
              "    }\n",
              "  </style>\n",
              "\n",
              "      <script>\n",
              "        const buttonEl =\n",
              "          document.querySelector('#df-2b3b7503-387f-436e-8e21-6c13b586ee99 button.colab-df-convert');\n",
              "        buttonEl.style.display =\n",
              "          google.colab.kernel.accessAllowed ? 'block' : 'none';\n",
              "\n",
              "        async function convertToInteractive(key) {\n",
              "          const element = document.querySelector('#df-2b3b7503-387f-436e-8e21-6c13b586ee99');\n",
              "          const dataTable =\n",
              "            await google.colab.kernel.invokeFunction('convertToInteractive',\n",
              "                                                     [key], {});\n",
              "          if (!dataTable) return;\n",
              "\n",
              "          const docLinkHtml = 'Like what you see? Visit the ' +\n",
              "            '<a target=\"_blank\" href=https://colab.research.google.com/notebooks/data_table.ipynb>data table notebook</a>'\n",
              "            + ' to learn more about interactive tables.';\n",
              "          element.innerHTML = '';\n",
              "          dataTable['output_type'] = 'display_data';\n",
              "          await google.colab.output.renderOutput(dataTable, element);\n",
              "          const docLink = document.createElement('div');\n",
              "          docLink.innerHTML = docLinkHtml;\n",
              "          element.appendChild(docLink);\n",
              "        }\n",
              "      </script>\n",
              "    </div>\n",
              "  </div>\n",
              "  "
            ]
          },
          "metadata": {},
          "execution_count": 35
        }
      ],
      "source": [
        "X = ss_final.drop(['jenis_ss'], axis  = 1)\n",
        "X"
      ]
    },
    {
      "cell_type": "markdown",
      "source": [
        "Mendefinisikan nilai X yang didapatkan dari beberapa atribut independent, seperti usia, durasi aktivitas, spf, encoding dari jenis kelamin, encoding dari jenis kulit, dan encoding dari tekstur sunscreen"
      ],
      "metadata": {
        "id": "7GmHckBCHX66"
      }
    },
    {
      "cell_type": "code",
      "execution_count": null,
      "metadata": {
        "colab": {
          "base_uri": "https://localhost:8080/"
        },
        "id": "7W-DE21hhBtK",
        "outputId": "e7e11e6a-84df-440a-ca2e-67cc3978b357"
      },
      "outputs": [
        {
          "output_type": "execute_result",
          "data": {
            "text/plain": [
              "0     1\n",
              "1     1\n",
              "2     1\n",
              "3     1\n",
              "4     1\n",
              "     ..\n",
              "76    1\n",
              "77    0\n",
              "78    1\n",
              "79    0\n",
              "80    0\n",
              "Name: jenis_ss, Length: 77, dtype: int64"
            ]
          },
          "metadata": {},
          "execution_count": 36
        }
      ],
      "source": [
        "y = ss_final.jenis_ss\n",
        "y"
      ]
    },
    {
      "cell_type": "markdown",
      "source": [
        "Mendefinisikan variabel y yang berasal dari atribut dependen yatu jenis sunscreen yang berisikan: 0 jenis sunscreen chemical, dan 1 jenis sunscreen physical"
      ],
      "metadata": {
        "id": "-uTw1y0zHtQF"
      }
    },
    {
      "cell_type": "code",
      "execution_count": null,
      "metadata": {
        "id": "u2ulH3sHXg7Y"
      },
      "outputs": [],
      "source": [
        "from sklearn.model_selection import train_test_split\n",
        "X_train, X_test, y_train, y_test = train_test_split(X, y, test_size = 0.2, random_state = 0)"
      ]
    },
    {
      "cell_type": "markdown",
      "source": [
        "Melakukan train split test untuk membagi data menjadi data train dan data test. diguanakan rasio 80:20 dimana 80% untuk data train dan 20% untuk data test"
      ],
      "metadata": {
        "id": "dEsf5opVIBQX"
      }
    },
    {
      "cell_type": "markdown",
      "metadata": {
        "id": "vhCxipIRtE-v"
      },
      "source": [
        "## Random Forest"
      ]
    },
    {
      "cell_type": "code",
      "execution_count": null,
      "metadata": {
        "colab": {
          "base_uri": "https://localhost:8080/",
          "height": 74
        },
        "id": "h8YW8oIwq1sP",
        "outputId": "8f1c272b-8639-4251-e450-484d53090855"
      },
      "outputs": [
        {
          "output_type": "execute_result",
          "data": {
            "text/plain": [
              "RandomForestClassifier()"
            ],
            "text/html": [
              "<style>#sk-container-id-1 {color: black;background-color: white;}#sk-container-id-1 pre{padding: 0;}#sk-container-id-1 div.sk-toggleable {background-color: white;}#sk-container-id-1 label.sk-toggleable__label {cursor: pointer;display: block;width: 100%;margin-bottom: 0;padding: 0.3em;box-sizing: border-box;text-align: center;}#sk-container-id-1 label.sk-toggleable__label-arrow:before {content: \"▸\";float: left;margin-right: 0.25em;color: #696969;}#sk-container-id-1 label.sk-toggleable__label-arrow:hover:before {color: black;}#sk-container-id-1 div.sk-estimator:hover label.sk-toggleable__label-arrow:before {color: black;}#sk-container-id-1 div.sk-toggleable__content {max-height: 0;max-width: 0;overflow: hidden;text-align: left;background-color: #f0f8ff;}#sk-container-id-1 div.sk-toggleable__content pre {margin: 0.2em;color: black;border-radius: 0.25em;background-color: #f0f8ff;}#sk-container-id-1 input.sk-toggleable__control:checked~div.sk-toggleable__content {max-height: 200px;max-width: 100%;overflow: auto;}#sk-container-id-1 input.sk-toggleable__control:checked~label.sk-toggleable__label-arrow:before {content: \"▾\";}#sk-container-id-1 div.sk-estimator input.sk-toggleable__control:checked~label.sk-toggleable__label {background-color: #d4ebff;}#sk-container-id-1 div.sk-label input.sk-toggleable__control:checked~label.sk-toggleable__label {background-color: #d4ebff;}#sk-container-id-1 input.sk-hidden--visually {border: 0;clip: rect(1px 1px 1px 1px);clip: rect(1px, 1px, 1px, 1px);height: 1px;margin: -1px;overflow: hidden;padding: 0;position: absolute;width: 1px;}#sk-container-id-1 div.sk-estimator {font-family: monospace;background-color: #f0f8ff;border: 1px dotted black;border-radius: 0.25em;box-sizing: border-box;margin-bottom: 0.5em;}#sk-container-id-1 div.sk-estimator:hover {background-color: #d4ebff;}#sk-container-id-1 div.sk-parallel-item::after {content: \"\";width: 100%;border-bottom: 1px solid gray;flex-grow: 1;}#sk-container-id-1 div.sk-label:hover label.sk-toggleable__label {background-color: #d4ebff;}#sk-container-id-1 div.sk-serial::before {content: \"\";position: absolute;border-left: 1px solid gray;box-sizing: border-box;top: 0;bottom: 0;left: 50%;z-index: 0;}#sk-container-id-1 div.sk-serial {display: flex;flex-direction: column;align-items: center;background-color: white;padding-right: 0.2em;padding-left: 0.2em;position: relative;}#sk-container-id-1 div.sk-item {position: relative;z-index: 1;}#sk-container-id-1 div.sk-parallel {display: flex;align-items: stretch;justify-content: center;background-color: white;position: relative;}#sk-container-id-1 div.sk-item::before, #sk-container-id-1 div.sk-parallel-item::before {content: \"\";position: absolute;border-left: 1px solid gray;box-sizing: border-box;top: 0;bottom: 0;left: 50%;z-index: -1;}#sk-container-id-1 div.sk-parallel-item {display: flex;flex-direction: column;z-index: 1;position: relative;background-color: white;}#sk-container-id-1 div.sk-parallel-item:first-child::after {align-self: flex-end;width: 50%;}#sk-container-id-1 div.sk-parallel-item:last-child::after {align-self: flex-start;width: 50%;}#sk-container-id-1 div.sk-parallel-item:only-child::after {width: 0;}#sk-container-id-1 div.sk-dashed-wrapped {border: 1px dashed gray;margin: 0 0.4em 0.5em 0.4em;box-sizing: border-box;padding-bottom: 0.4em;background-color: white;}#sk-container-id-1 div.sk-label label {font-family: monospace;font-weight: bold;display: inline-block;line-height: 1.2em;}#sk-container-id-1 div.sk-label-container {text-align: center;}#sk-container-id-1 div.sk-container {/* jupyter's `normalize.less` sets `[hidden] { display: none; }` but bootstrap.min.css set `[hidden] { display: none !important; }` so we also need the `!important` here to be able to override the default hidden behavior on the sphinx rendered scikit-learn.org. See: https://github.com/scikit-learn/scikit-learn/issues/21755 */display: inline-block !important;position: relative;}#sk-container-id-1 div.sk-text-repr-fallback {display: none;}</style><div id=\"sk-container-id-1\" class=\"sk-top-container\"><div class=\"sk-text-repr-fallback\"><pre>RandomForestClassifier()</pre><b>In a Jupyter environment, please rerun this cell to show the HTML representation or trust the notebook. <br />On GitHub, the HTML representation is unable to render, please try loading this page with nbviewer.org.</b></div><div class=\"sk-container\" hidden><div class=\"sk-item\"><div class=\"sk-estimator sk-toggleable\"><input class=\"sk-toggleable__control sk-hidden--visually\" id=\"sk-estimator-id-1\" type=\"checkbox\" checked><label for=\"sk-estimator-id-1\" class=\"sk-toggleable__label sk-toggleable__label-arrow\">RandomForestClassifier</label><div class=\"sk-toggleable__content\"><pre>RandomForestClassifier()</pre></div></div></div></div></div>"
            ]
          },
          "metadata": {},
          "execution_count": 38
        }
      ],
      "source": [
        "from sklearn.ensemble import RandomForestClassifier\n",
        "rf = RandomForestClassifier()\n",
        "rf.fit(X_train, y_train)"
      ]
    },
    {
      "cell_type": "markdown",
      "source": [
        "Dalam pembuatan model svm digunakan function RandomForestClassifier() yang didapatkan dari library sklearn.ensemble. Membangun model dengan memasukan data train kedalam model Random Forest."
      ],
      "metadata": {
        "id": "4zkYI0FsXGGC"
      }
    },
    {
      "cell_type": "code",
      "execution_count": null,
      "metadata": {
        "colab": {
          "base_uri": "https://localhost:8080/",
          "height": 551
        },
        "id": "GUGwJH1GrISN",
        "outputId": "ec22fbfe-5236-4d0f-c601-48264d0bb29a"
      },
      "outputs": [
        {
          "output_type": "execute_result",
          "data": {
            "text/plain": [
              "    y_test  y_pred\n",
              "50       1       1\n",
              "78       1       0\n",
              "62       1       1\n",
              "57       1       1\n",
              "36       1       1\n",
              "27       1       1\n",
              "72       1       0\n",
              "34       0       0\n",
              "47       0       1\n",
              "73       0       0\n",
              "28       0       0\n",
              "63       1       1\n",
              "3        1       1\n",
              "44       1       0\n",
              "45       0       0\n",
              "7        1       1"
            ],
            "text/html": [
              "\n",
              "  <div id=\"df-6bf52d04-0735-4bb9-9f7c-f2a8aecb1312\">\n",
              "    <div class=\"colab-df-container\">\n",
              "      <div>\n",
              "<style scoped>\n",
              "    .dataframe tbody tr th:only-of-type {\n",
              "        vertical-align: middle;\n",
              "    }\n",
              "\n",
              "    .dataframe tbody tr th {\n",
              "        vertical-align: top;\n",
              "    }\n",
              "\n",
              "    .dataframe thead th {\n",
              "        text-align: right;\n",
              "    }\n",
              "</style>\n",
              "<table border=\"1\" class=\"dataframe\">\n",
              "  <thead>\n",
              "    <tr style=\"text-align: right;\">\n",
              "      <th></th>\n",
              "      <th>y_test</th>\n",
              "      <th>y_pred</th>\n",
              "    </tr>\n",
              "  </thead>\n",
              "  <tbody>\n",
              "    <tr>\n",
              "      <th>50</th>\n",
              "      <td>1</td>\n",
              "      <td>1</td>\n",
              "    </tr>\n",
              "    <tr>\n",
              "      <th>78</th>\n",
              "      <td>1</td>\n",
              "      <td>0</td>\n",
              "    </tr>\n",
              "    <tr>\n",
              "      <th>62</th>\n",
              "      <td>1</td>\n",
              "      <td>1</td>\n",
              "    </tr>\n",
              "    <tr>\n",
              "      <th>57</th>\n",
              "      <td>1</td>\n",
              "      <td>1</td>\n",
              "    </tr>\n",
              "    <tr>\n",
              "      <th>36</th>\n",
              "      <td>1</td>\n",
              "      <td>1</td>\n",
              "    </tr>\n",
              "    <tr>\n",
              "      <th>27</th>\n",
              "      <td>1</td>\n",
              "      <td>1</td>\n",
              "    </tr>\n",
              "    <tr>\n",
              "      <th>72</th>\n",
              "      <td>1</td>\n",
              "      <td>0</td>\n",
              "    </tr>\n",
              "    <tr>\n",
              "      <th>34</th>\n",
              "      <td>0</td>\n",
              "      <td>0</td>\n",
              "    </tr>\n",
              "    <tr>\n",
              "      <th>47</th>\n",
              "      <td>0</td>\n",
              "      <td>1</td>\n",
              "    </tr>\n",
              "    <tr>\n",
              "      <th>73</th>\n",
              "      <td>0</td>\n",
              "      <td>0</td>\n",
              "    </tr>\n",
              "    <tr>\n",
              "      <th>28</th>\n",
              "      <td>0</td>\n",
              "      <td>0</td>\n",
              "    </tr>\n",
              "    <tr>\n",
              "      <th>63</th>\n",
              "      <td>1</td>\n",
              "      <td>1</td>\n",
              "    </tr>\n",
              "    <tr>\n",
              "      <th>3</th>\n",
              "      <td>1</td>\n",
              "      <td>1</td>\n",
              "    </tr>\n",
              "    <tr>\n",
              "      <th>44</th>\n",
              "      <td>1</td>\n",
              "      <td>0</td>\n",
              "    </tr>\n",
              "    <tr>\n",
              "      <th>45</th>\n",
              "      <td>0</td>\n",
              "      <td>0</td>\n",
              "    </tr>\n",
              "    <tr>\n",
              "      <th>7</th>\n",
              "      <td>1</td>\n",
              "      <td>1</td>\n",
              "    </tr>\n",
              "  </tbody>\n",
              "</table>\n",
              "</div>\n",
              "      <button class=\"colab-df-convert\" onclick=\"convertToInteractive('df-6bf52d04-0735-4bb9-9f7c-f2a8aecb1312')\"\n",
              "              title=\"Convert this dataframe to an interactive table.\"\n",
              "              style=\"display:none;\">\n",
              "        \n",
              "  <svg xmlns=\"http://www.w3.org/2000/svg\" height=\"24px\"viewBox=\"0 0 24 24\"\n",
              "       width=\"24px\">\n",
              "    <path d=\"M0 0h24v24H0V0z\" fill=\"none\"/>\n",
              "    <path d=\"M18.56 5.44l.94 2.06.94-2.06 2.06-.94-2.06-.94-.94-2.06-.94 2.06-2.06.94zm-11 1L8.5 8.5l.94-2.06 2.06-.94-2.06-.94L8.5 2.5l-.94 2.06-2.06.94zm10 10l.94 2.06.94-2.06 2.06-.94-2.06-.94-.94-2.06-.94 2.06-2.06.94z\"/><path d=\"M17.41 7.96l-1.37-1.37c-.4-.4-.92-.59-1.43-.59-.52 0-1.04.2-1.43.59L10.3 9.45l-7.72 7.72c-.78.78-.78 2.05 0 2.83L4 21.41c.39.39.9.59 1.41.59.51 0 1.02-.2 1.41-.59l7.78-7.78 2.81-2.81c.8-.78.8-2.07 0-2.86zM5.41 20L4 18.59l7.72-7.72 1.47 1.35L5.41 20z\"/>\n",
              "  </svg>\n",
              "      </button>\n",
              "      \n",
              "  <style>\n",
              "    .colab-df-container {\n",
              "      display:flex;\n",
              "      flex-wrap:wrap;\n",
              "      gap: 12px;\n",
              "    }\n",
              "\n",
              "    .colab-df-convert {\n",
              "      background-color: #E8F0FE;\n",
              "      border: none;\n",
              "      border-radius: 50%;\n",
              "      cursor: pointer;\n",
              "      display: none;\n",
              "      fill: #1967D2;\n",
              "      height: 32px;\n",
              "      padding: 0 0 0 0;\n",
              "      width: 32px;\n",
              "    }\n",
              "\n",
              "    .colab-df-convert:hover {\n",
              "      background-color: #E2EBFA;\n",
              "      box-shadow: 0px 1px 2px rgba(60, 64, 67, 0.3), 0px 1px 3px 1px rgba(60, 64, 67, 0.15);\n",
              "      fill: #174EA6;\n",
              "    }\n",
              "\n",
              "    [theme=dark] .colab-df-convert {\n",
              "      background-color: #3B4455;\n",
              "      fill: #D2E3FC;\n",
              "    }\n",
              "\n",
              "    [theme=dark] .colab-df-convert:hover {\n",
              "      background-color: #434B5C;\n",
              "      box-shadow: 0px 1px 3px 1px rgba(0, 0, 0, 0.15);\n",
              "      filter: drop-shadow(0px 1px 2px rgba(0, 0, 0, 0.3));\n",
              "      fill: #FFFFFF;\n",
              "    }\n",
              "  </style>\n",
              "\n",
              "      <script>\n",
              "        const buttonEl =\n",
              "          document.querySelector('#df-6bf52d04-0735-4bb9-9f7c-f2a8aecb1312 button.colab-df-convert');\n",
              "        buttonEl.style.display =\n",
              "          google.colab.kernel.accessAllowed ? 'block' : 'none';\n",
              "\n",
              "        async function convertToInteractive(key) {\n",
              "          const element = document.querySelector('#df-6bf52d04-0735-4bb9-9f7c-f2a8aecb1312');\n",
              "          const dataTable =\n",
              "            await google.colab.kernel.invokeFunction('convertToInteractive',\n",
              "                                                     [key], {});\n",
              "          if (!dataTable) return;\n",
              "\n",
              "          const docLinkHtml = 'Like what you see? Visit the ' +\n",
              "            '<a target=\"_blank\" href=https://colab.research.google.com/notebooks/data_table.ipynb>data table notebook</a>'\n",
              "            + ' to learn more about interactive tables.';\n",
              "          element.innerHTML = '';\n",
              "          dataTable['output_type'] = 'display_data';\n",
              "          await google.colab.output.renderOutput(dataTable, element);\n",
              "          const docLink = document.createElement('div');\n",
              "          docLink.innerHTML = docLinkHtml;\n",
              "          element.appendChild(docLink);\n",
              "        }\n",
              "      </script>\n",
              "    </div>\n",
              "  </div>\n",
              "  "
            ]
          },
          "metadata": {},
          "execution_count": 39
        }
      ],
      "source": [
        "y_rf_pred = rf.predict(X_test)\n",
        "evaluate = pd.DataFrame({'y_test': y_test, 'y_pred': y_rf_pred})\n",
        "evaluate"
      ]
    },
    {
      "cell_type": "markdown",
      "source": [
        "dilakukan comparison antara hasil dari y_predict dan y_test. apakah sesuai atau tidak. maksudnya, apakah jenis sunscreen yang dikategorikan sebagai chemical benar-benar berjenis chemical? begitu juga sebaliknya.\n",
        "\n",
        "Dari hasil analisa tersebut didapatkan terlihat ada beberapa hasil prediksi jenis sunscreen yang tidak sesuai dengan hasil test jenis sunscreen."
      ],
      "metadata": {
        "id": "XtqXZcrFW4yE"
      }
    },
    {
      "cell_type": "code",
      "execution_count": null,
      "metadata": {
        "colab": {
          "base_uri": "https://localhost:8080/"
        },
        "id": "8xQnl_5JrSk7",
        "outputId": "85931906-f022-43c2-b6e0-5eb764614d50"
      },
      "outputs": [
        {
          "output_type": "stream",
          "name": "stdout",
          "text": [
            "Confusion Matrix\n",
            " [[4 1]\n",
            " [3 8]]\n"
          ]
        }
      ],
      "source": [
        "from sklearn.metrics import confusion_matrix\n",
        "cm = confusion_matrix(y_test, y_rf_pred)\n",
        "print(\"Confusion Matrix\\n\", cm)"
      ]
    },
    {
      "cell_type": "markdown",
      "source": [
        "**True Negative** merupakan jumlah data yang diklasifikasikan dengan benar sebagai kelas jenis sunscreen chemical, dengan TN sebanyak 4\n",
        "\n",
        "**False Positive** merupakan jumlah data yang seharusnya diklasifikasikan sebagai kelas jenis sunscreen chemical namun salah diklasifikasikan sebagai kelas jenis sunscreen physical, dengan FP sebanyak 1\n",
        "\n",
        "**False Negative** merupakan jumlah data yang seharusnya diklasifikasikan sebagai kelas jenis sunscreen physical namun salah diklasifikasikan sebagai kelas jenis sunscreen chemical, dengan FN sebanyak 3\n",
        "\n",
        "**True Positive** merupakan jumlah data yang diklasifikasikan dengan benar sebagai kelas jenis sunscreen physical, dengan TP sebanyak 8"
      ],
      "metadata": {
        "id": "ywmEPKJJW522"
      }
    },
    {
      "cell_type": "markdown",
      "source": [
        "**True Negative** merupakan jumlah data yang diklasifikasikan dengan benar sebagai kelas jenis sunscreen chemical, dengan TN sebanyak 4\n",
        "\n",
        "**False Positive** merupakan jumlah data yang seharusnya diklasifikasikan sebagai kelas jenis sunscreen chemical namun salah diklasifikasikan sebagai kelas jenis sunscreen physical, dengan FP sebanyak 1\n",
        "\n",
        "**False Negative** merupakan jumlah data yang seharusnya diklasifikasikan sebagai kelas jenis sunscreen physical namun salah diklasifikasikan sebagai kelas jenis sunscreen chemical, dengan FN sebanyak 3\n",
        "\n",
        "**True Positive** merupakan jumlah data yang diklasifikasikan dengan benar sebagai kelas jenis sunscreen physical, dengan TP sebanyak 8"
      ],
      "metadata": {
        "id": "DjyKy2X6VDNw"
      }
    },
    {
      "cell_type": "code",
      "execution_count": null,
      "metadata": {
        "colab": {
          "base_uri": "https://localhost:8080/",
          "height": 81
        },
        "id": "ndEplpyarYCT",
        "outputId": "442dc895-0412-4b23-be77-9610851cdbba"
      },
      "outputs": [
        {
          "output_type": "execute_result",
          "data": {
            "text/plain": [
              "   Precision    Recall  f1-Score  Accuracy Score\n",
              "0   0.888889  0.727273       0.8            0.75"
            ],
            "text/html": [
              "\n",
              "  <div id=\"df-5e98ee6b-5c19-4df7-815e-f5402702de1b\">\n",
              "    <div class=\"colab-df-container\">\n",
              "      <div>\n",
              "<style scoped>\n",
              "    .dataframe tbody tr th:only-of-type {\n",
              "        vertical-align: middle;\n",
              "    }\n",
              "\n",
              "    .dataframe tbody tr th {\n",
              "        vertical-align: top;\n",
              "    }\n",
              "\n",
              "    .dataframe thead th {\n",
              "        text-align: right;\n",
              "    }\n",
              "</style>\n",
              "<table border=\"1\" class=\"dataframe\">\n",
              "  <thead>\n",
              "    <tr style=\"text-align: right;\">\n",
              "      <th></th>\n",
              "      <th>Precision</th>\n",
              "      <th>Recall</th>\n",
              "      <th>f1-Score</th>\n",
              "      <th>Accuracy Score</th>\n",
              "    </tr>\n",
              "  </thead>\n",
              "  <tbody>\n",
              "    <tr>\n",
              "      <th>0</th>\n",
              "      <td>0.888889</td>\n",
              "      <td>0.727273</td>\n",
              "      <td>0.8</td>\n",
              "      <td>0.75</td>\n",
              "    </tr>\n",
              "  </tbody>\n",
              "</table>\n",
              "</div>\n",
              "      <button class=\"colab-df-convert\" onclick=\"convertToInteractive('df-5e98ee6b-5c19-4df7-815e-f5402702de1b')\"\n",
              "              title=\"Convert this dataframe to an interactive table.\"\n",
              "              style=\"display:none;\">\n",
              "        \n",
              "  <svg xmlns=\"http://www.w3.org/2000/svg\" height=\"24px\"viewBox=\"0 0 24 24\"\n",
              "       width=\"24px\">\n",
              "    <path d=\"M0 0h24v24H0V0z\" fill=\"none\"/>\n",
              "    <path d=\"M18.56 5.44l.94 2.06.94-2.06 2.06-.94-2.06-.94-.94-2.06-.94 2.06-2.06.94zm-11 1L8.5 8.5l.94-2.06 2.06-.94-2.06-.94L8.5 2.5l-.94 2.06-2.06.94zm10 10l.94 2.06.94-2.06 2.06-.94-2.06-.94-.94-2.06-.94 2.06-2.06.94z\"/><path d=\"M17.41 7.96l-1.37-1.37c-.4-.4-.92-.59-1.43-.59-.52 0-1.04.2-1.43.59L10.3 9.45l-7.72 7.72c-.78.78-.78 2.05 0 2.83L4 21.41c.39.39.9.59 1.41.59.51 0 1.02-.2 1.41-.59l7.78-7.78 2.81-2.81c.8-.78.8-2.07 0-2.86zM5.41 20L4 18.59l7.72-7.72 1.47 1.35L5.41 20z\"/>\n",
              "  </svg>\n",
              "      </button>\n",
              "      \n",
              "  <style>\n",
              "    .colab-df-container {\n",
              "      display:flex;\n",
              "      flex-wrap:wrap;\n",
              "      gap: 12px;\n",
              "    }\n",
              "\n",
              "    .colab-df-convert {\n",
              "      background-color: #E8F0FE;\n",
              "      border: none;\n",
              "      border-radius: 50%;\n",
              "      cursor: pointer;\n",
              "      display: none;\n",
              "      fill: #1967D2;\n",
              "      height: 32px;\n",
              "      padding: 0 0 0 0;\n",
              "      width: 32px;\n",
              "    }\n",
              "\n",
              "    .colab-df-convert:hover {\n",
              "      background-color: #E2EBFA;\n",
              "      box-shadow: 0px 1px 2px rgba(60, 64, 67, 0.3), 0px 1px 3px 1px rgba(60, 64, 67, 0.15);\n",
              "      fill: #174EA6;\n",
              "    }\n",
              "\n",
              "    [theme=dark] .colab-df-convert {\n",
              "      background-color: #3B4455;\n",
              "      fill: #D2E3FC;\n",
              "    }\n",
              "\n",
              "    [theme=dark] .colab-df-convert:hover {\n",
              "      background-color: #434B5C;\n",
              "      box-shadow: 0px 1px 3px 1px rgba(0, 0, 0, 0.15);\n",
              "      filter: drop-shadow(0px 1px 2px rgba(0, 0, 0, 0.3));\n",
              "      fill: #FFFFFF;\n",
              "    }\n",
              "  </style>\n",
              "\n",
              "      <script>\n",
              "        const buttonEl =\n",
              "          document.querySelector('#df-5e98ee6b-5c19-4df7-815e-f5402702de1b button.colab-df-convert');\n",
              "        buttonEl.style.display =\n",
              "          google.colab.kernel.accessAllowed ? 'block' : 'none';\n",
              "\n",
              "        async function convertToInteractive(key) {\n",
              "          const element = document.querySelector('#df-5e98ee6b-5c19-4df7-815e-f5402702de1b');\n",
              "          const dataTable =\n",
              "            await google.colab.kernel.invokeFunction('convertToInteractive',\n",
              "                                                     [key], {});\n",
              "          if (!dataTable) return;\n",
              "\n",
              "          const docLinkHtml = 'Like what you see? Visit the ' +\n",
              "            '<a target=\"_blank\" href=https://colab.research.google.com/notebooks/data_table.ipynb>data table notebook</a>'\n",
              "            + ' to learn more about interactive tables.';\n",
              "          element.innerHTML = '';\n",
              "          dataTable['output_type'] = 'display_data';\n",
              "          await google.colab.output.renderOutput(dataTable, element);\n",
              "          const docLink = document.createElement('div');\n",
              "          docLink.innerHTML = docLinkHtml;\n",
              "          element.appendChild(docLink);\n",
              "        }\n",
              "      </script>\n",
              "    </div>\n",
              "  </div>\n",
              "  "
            ]
          },
          "metadata": {},
          "execution_count": 41
        }
      ],
      "source": [
        "# evaluasi model\n",
        "from sklearn.metrics import precision_score, recall_score, f1_score, accuracy_score\n",
        "#Menghitung presisi, recall\n",
        "precision = precision_score(y_test, y_rf_pred)\n",
        "recall = recall_score(y_test, y_rf_pred)\n",
        "f1 = f1_score(y_test, y_rf_pred)\n",
        "accuracy_rf = accuracy_score(y_test, y_rf_pred)\n",
        "\n",
        "result = pd.DataFrame({'Precision': [precision], 'Recall': [recall], 'f1-Score': [f1], 'Accuracy Score': [accuracy_rf]})\n",
        "result"
      ]
    },
    {
      "cell_type": "markdown",
      "source": [
        "untuk mendapatkan nilai dari evaluasi model (metrics) digunakan function precision_score(), recall_score(), f1_score(), dan accuracy_score() yang didapatkan dari library sklearn.metrics"
      ],
      "metadata": {
        "id": "Z9aLINMKWzgH"
      }
    },
    {
      "cell_type": "markdown",
      "source": [
        "- Precision adalah rasio jumlah data positif yang diklasifikasikan dengan benar oleh model terhadap total data yang diklasifikasikan sebagai positif. Precision mengukur seberapa akurat model dalam mengidentifikasi data positif.\n",
        "\n",
        "- Recall adalah rasio jumlah data positif yang diklasifikasikan dengan benar oleh model terhadap total data positif yang ada. Recall mengukur seberapa baik model dalam mengenali data positif.\n",
        "\n",
        "- f1-score adalah nilai rata-rata harmonis antara presisi dan recall. Metrik ini memberikan keseimbangan antara presisi dan recall.\n",
        "\n",
        "- Accuracy adalah rasio jumlah data yang diklasifikasikan dengan benar oleh model terhadap total jumlah data yang ada. Accuracy mengukur seberapa sering model benar dalam memprediksi kelas target\n",
        "\n",
        "- Dari hasil evaluasi model diatas didapatkan hasil untuk precision sebesar 88.89%, recall sebesar 72.72%, dan f1-score sebesar 80%, dan akurasi model sebesar 75%\n"
      ],
      "metadata": {
        "id": "onKiIpPPVhNk"
      }
    },
    {
      "cell_type": "markdown",
      "metadata": {
        "id": "30l--Jsa1jRY"
      },
      "source": [
        "## Support Vector Machine"
      ]
    },
    {
      "cell_type": "code",
      "execution_count": null,
      "metadata": {
        "colab": {
          "base_uri": "https://localhost:8080/",
          "height": 74
        },
        "id": "NbPk8MH11lc5",
        "outputId": "bb068783-08ec-414f-cfba-75f36988eae7"
      },
      "outputs": [
        {
          "output_type": "execute_result",
          "data": {
            "text/plain": [
              "SVC()"
            ],
            "text/html": [
              "<style>#sk-container-id-2 {color: black;background-color: white;}#sk-container-id-2 pre{padding: 0;}#sk-container-id-2 div.sk-toggleable {background-color: white;}#sk-container-id-2 label.sk-toggleable__label {cursor: pointer;display: block;width: 100%;margin-bottom: 0;padding: 0.3em;box-sizing: border-box;text-align: center;}#sk-container-id-2 label.sk-toggleable__label-arrow:before {content: \"▸\";float: left;margin-right: 0.25em;color: #696969;}#sk-container-id-2 label.sk-toggleable__label-arrow:hover:before {color: black;}#sk-container-id-2 div.sk-estimator:hover label.sk-toggleable__label-arrow:before {color: black;}#sk-container-id-2 div.sk-toggleable__content {max-height: 0;max-width: 0;overflow: hidden;text-align: left;background-color: #f0f8ff;}#sk-container-id-2 div.sk-toggleable__content pre {margin: 0.2em;color: black;border-radius: 0.25em;background-color: #f0f8ff;}#sk-container-id-2 input.sk-toggleable__control:checked~div.sk-toggleable__content {max-height: 200px;max-width: 100%;overflow: auto;}#sk-container-id-2 input.sk-toggleable__control:checked~label.sk-toggleable__label-arrow:before {content: \"▾\";}#sk-container-id-2 div.sk-estimator input.sk-toggleable__control:checked~label.sk-toggleable__label {background-color: #d4ebff;}#sk-container-id-2 div.sk-label input.sk-toggleable__control:checked~label.sk-toggleable__label {background-color: #d4ebff;}#sk-container-id-2 input.sk-hidden--visually {border: 0;clip: rect(1px 1px 1px 1px);clip: rect(1px, 1px, 1px, 1px);height: 1px;margin: -1px;overflow: hidden;padding: 0;position: absolute;width: 1px;}#sk-container-id-2 div.sk-estimator {font-family: monospace;background-color: #f0f8ff;border: 1px dotted black;border-radius: 0.25em;box-sizing: border-box;margin-bottom: 0.5em;}#sk-container-id-2 div.sk-estimator:hover {background-color: #d4ebff;}#sk-container-id-2 div.sk-parallel-item::after {content: \"\";width: 100%;border-bottom: 1px solid gray;flex-grow: 1;}#sk-container-id-2 div.sk-label:hover label.sk-toggleable__label {background-color: #d4ebff;}#sk-container-id-2 div.sk-serial::before {content: \"\";position: absolute;border-left: 1px solid gray;box-sizing: border-box;top: 0;bottom: 0;left: 50%;z-index: 0;}#sk-container-id-2 div.sk-serial {display: flex;flex-direction: column;align-items: center;background-color: white;padding-right: 0.2em;padding-left: 0.2em;position: relative;}#sk-container-id-2 div.sk-item {position: relative;z-index: 1;}#sk-container-id-2 div.sk-parallel {display: flex;align-items: stretch;justify-content: center;background-color: white;position: relative;}#sk-container-id-2 div.sk-item::before, #sk-container-id-2 div.sk-parallel-item::before {content: \"\";position: absolute;border-left: 1px solid gray;box-sizing: border-box;top: 0;bottom: 0;left: 50%;z-index: -1;}#sk-container-id-2 div.sk-parallel-item {display: flex;flex-direction: column;z-index: 1;position: relative;background-color: white;}#sk-container-id-2 div.sk-parallel-item:first-child::after {align-self: flex-end;width: 50%;}#sk-container-id-2 div.sk-parallel-item:last-child::after {align-self: flex-start;width: 50%;}#sk-container-id-2 div.sk-parallel-item:only-child::after {width: 0;}#sk-container-id-2 div.sk-dashed-wrapped {border: 1px dashed gray;margin: 0 0.4em 0.5em 0.4em;box-sizing: border-box;padding-bottom: 0.4em;background-color: white;}#sk-container-id-2 div.sk-label label {font-family: monospace;font-weight: bold;display: inline-block;line-height: 1.2em;}#sk-container-id-2 div.sk-label-container {text-align: center;}#sk-container-id-2 div.sk-container {/* jupyter's `normalize.less` sets `[hidden] { display: none; }` but bootstrap.min.css set `[hidden] { display: none !important; }` so we also need the `!important` here to be able to override the default hidden behavior on the sphinx rendered scikit-learn.org. See: https://github.com/scikit-learn/scikit-learn/issues/21755 */display: inline-block !important;position: relative;}#sk-container-id-2 div.sk-text-repr-fallback {display: none;}</style><div id=\"sk-container-id-2\" class=\"sk-top-container\"><div class=\"sk-text-repr-fallback\"><pre>SVC()</pre><b>In a Jupyter environment, please rerun this cell to show the HTML representation or trust the notebook. <br />On GitHub, the HTML representation is unable to render, please try loading this page with nbviewer.org.</b></div><div class=\"sk-container\" hidden><div class=\"sk-item\"><div class=\"sk-estimator sk-toggleable\"><input class=\"sk-toggleable__control sk-hidden--visually\" id=\"sk-estimator-id-2\" type=\"checkbox\" checked><label for=\"sk-estimator-id-2\" class=\"sk-toggleable__label sk-toggleable__label-arrow\">SVC</label><div class=\"sk-toggleable__content\"><pre>SVC()</pre></div></div></div></div></div>"
            ]
          },
          "metadata": {},
          "execution_count": 42
        }
      ],
      "source": [
        "from sklearn.svm import SVC\n",
        "svm = SVC()\n",
        "svm.fit(X_train, y_train)"
      ]
    },
    {
      "cell_type": "markdown",
      "source": [
        "Dalam pembuatan model svm digunakan function SVC() yang didapatkan dari library sklearn.svm. Membangun model dengan memasukan data train kedalam model SVM."
      ],
      "metadata": {
        "id": "4IxxYwPNUEB0"
      }
    },
    {
      "cell_type": "code",
      "execution_count": null,
      "metadata": {
        "colab": {
          "base_uri": "https://localhost:8080/",
          "height": 551
        },
        "id": "-uY-UIWQ2IkI",
        "outputId": "bba44e86-6a16-4e86-deab-a99fa3c3b2ea"
      },
      "outputs": [
        {
          "output_type": "execute_result",
          "data": {
            "text/plain": [
              "    y_test  y_pred\n",
              "50       1       1\n",
              "78       1       0\n",
              "62       1       1\n",
              "57       1       1\n",
              "36       1       1\n",
              "27       1       1\n",
              "72       1       1\n",
              "34       0       0\n",
              "47       0       1\n",
              "73       0       0\n",
              "28       0       1\n",
              "63       1       1\n",
              "3        1       1\n",
              "44       1       1\n",
              "45       0       0\n",
              "7        1       1"
            ],
            "text/html": [
              "\n",
              "  <div id=\"df-704ef33f-771a-48fc-af31-c2b9045530a3\">\n",
              "    <div class=\"colab-df-container\">\n",
              "      <div>\n",
              "<style scoped>\n",
              "    .dataframe tbody tr th:only-of-type {\n",
              "        vertical-align: middle;\n",
              "    }\n",
              "\n",
              "    .dataframe tbody tr th {\n",
              "        vertical-align: top;\n",
              "    }\n",
              "\n",
              "    .dataframe thead th {\n",
              "        text-align: right;\n",
              "    }\n",
              "</style>\n",
              "<table border=\"1\" class=\"dataframe\">\n",
              "  <thead>\n",
              "    <tr style=\"text-align: right;\">\n",
              "      <th></th>\n",
              "      <th>y_test</th>\n",
              "      <th>y_pred</th>\n",
              "    </tr>\n",
              "  </thead>\n",
              "  <tbody>\n",
              "    <tr>\n",
              "      <th>50</th>\n",
              "      <td>1</td>\n",
              "      <td>1</td>\n",
              "    </tr>\n",
              "    <tr>\n",
              "      <th>78</th>\n",
              "      <td>1</td>\n",
              "      <td>0</td>\n",
              "    </tr>\n",
              "    <tr>\n",
              "      <th>62</th>\n",
              "      <td>1</td>\n",
              "      <td>1</td>\n",
              "    </tr>\n",
              "    <tr>\n",
              "      <th>57</th>\n",
              "      <td>1</td>\n",
              "      <td>1</td>\n",
              "    </tr>\n",
              "    <tr>\n",
              "      <th>36</th>\n",
              "      <td>1</td>\n",
              "      <td>1</td>\n",
              "    </tr>\n",
              "    <tr>\n",
              "      <th>27</th>\n",
              "      <td>1</td>\n",
              "      <td>1</td>\n",
              "    </tr>\n",
              "    <tr>\n",
              "      <th>72</th>\n",
              "      <td>1</td>\n",
              "      <td>1</td>\n",
              "    </tr>\n",
              "    <tr>\n",
              "      <th>34</th>\n",
              "      <td>0</td>\n",
              "      <td>0</td>\n",
              "    </tr>\n",
              "    <tr>\n",
              "      <th>47</th>\n",
              "      <td>0</td>\n",
              "      <td>1</td>\n",
              "    </tr>\n",
              "    <tr>\n",
              "      <th>73</th>\n",
              "      <td>0</td>\n",
              "      <td>0</td>\n",
              "    </tr>\n",
              "    <tr>\n",
              "      <th>28</th>\n",
              "      <td>0</td>\n",
              "      <td>1</td>\n",
              "    </tr>\n",
              "    <tr>\n",
              "      <th>63</th>\n",
              "      <td>1</td>\n",
              "      <td>1</td>\n",
              "    </tr>\n",
              "    <tr>\n",
              "      <th>3</th>\n",
              "      <td>1</td>\n",
              "      <td>1</td>\n",
              "    </tr>\n",
              "    <tr>\n",
              "      <th>44</th>\n",
              "      <td>1</td>\n",
              "      <td>1</td>\n",
              "    </tr>\n",
              "    <tr>\n",
              "      <th>45</th>\n",
              "      <td>0</td>\n",
              "      <td>0</td>\n",
              "    </tr>\n",
              "    <tr>\n",
              "      <th>7</th>\n",
              "      <td>1</td>\n",
              "      <td>1</td>\n",
              "    </tr>\n",
              "  </tbody>\n",
              "</table>\n",
              "</div>\n",
              "      <button class=\"colab-df-convert\" onclick=\"convertToInteractive('df-704ef33f-771a-48fc-af31-c2b9045530a3')\"\n",
              "              title=\"Convert this dataframe to an interactive table.\"\n",
              "              style=\"display:none;\">\n",
              "        \n",
              "  <svg xmlns=\"http://www.w3.org/2000/svg\" height=\"24px\"viewBox=\"0 0 24 24\"\n",
              "       width=\"24px\">\n",
              "    <path d=\"M0 0h24v24H0V0z\" fill=\"none\"/>\n",
              "    <path d=\"M18.56 5.44l.94 2.06.94-2.06 2.06-.94-2.06-.94-.94-2.06-.94 2.06-2.06.94zm-11 1L8.5 8.5l.94-2.06 2.06-.94-2.06-.94L8.5 2.5l-.94 2.06-2.06.94zm10 10l.94 2.06.94-2.06 2.06-.94-2.06-.94-.94-2.06-.94 2.06-2.06.94z\"/><path d=\"M17.41 7.96l-1.37-1.37c-.4-.4-.92-.59-1.43-.59-.52 0-1.04.2-1.43.59L10.3 9.45l-7.72 7.72c-.78.78-.78 2.05 0 2.83L4 21.41c.39.39.9.59 1.41.59.51 0 1.02-.2 1.41-.59l7.78-7.78 2.81-2.81c.8-.78.8-2.07 0-2.86zM5.41 20L4 18.59l7.72-7.72 1.47 1.35L5.41 20z\"/>\n",
              "  </svg>\n",
              "      </button>\n",
              "      \n",
              "  <style>\n",
              "    .colab-df-container {\n",
              "      display:flex;\n",
              "      flex-wrap:wrap;\n",
              "      gap: 12px;\n",
              "    }\n",
              "\n",
              "    .colab-df-convert {\n",
              "      background-color: #E8F0FE;\n",
              "      border: none;\n",
              "      border-radius: 50%;\n",
              "      cursor: pointer;\n",
              "      display: none;\n",
              "      fill: #1967D2;\n",
              "      height: 32px;\n",
              "      padding: 0 0 0 0;\n",
              "      width: 32px;\n",
              "    }\n",
              "\n",
              "    .colab-df-convert:hover {\n",
              "      background-color: #E2EBFA;\n",
              "      box-shadow: 0px 1px 2px rgba(60, 64, 67, 0.3), 0px 1px 3px 1px rgba(60, 64, 67, 0.15);\n",
              "      fill: #174EA6;\n",
              "    }\n",
              "\n",
              "    [theme=dark] .colab-df-convert {\n",
              "      background-color: #3B4455;\n",
              "      fill: #D2E3FC;\n",
              "    }\n",
              "\n",
              "    [theme=dark] .colab-df-convert:hover {\n",
              "      background-color: #434B5C;\n",
              "      box-shadow: 0px 1px 3px 1px rgba(0, 0, 0, 0.15);\n",
              "      filter: drop-shadow(0px 1px 2px rgba(0, 0, 0, 0.3));\n",
              "      fill: #FFFFFF;\n",
              "    }\n",
              "  </style>\n",
              "\n",
              "      <script>\n",
              "        const buttonEl =\n",
              "          document.querySelector('#df-704ef33f-771a-48fc-af31-c2b9045530a3 button.colab-df-convert');\n",
              "        buttonEl.style.display =\n",
              "          google.colab.kernel.accessAllowed ? 'block' : 'none';\n",
              "\n",
              "        async function convertToInteractive(key) {\n",
              "          const element = document.querySelector('#df-704ef33f-771a-48fc-af31-c2b9045530a3');\n",
              "          const dataTable =\n",
              "            await google.colab.kernel.invokeFunction('convertToInteractive',\n",
              "                                                     [key], {});\n",
              "          if (!dataTable) return;\n",
              "\n",
              "          const docLinkHtml = 'Like what you see? Visit the ' +\n",
              "            '<a target=\"_blank\" href=https://colab.research.google.com/notebooks/data_table.ipynb>data table notebook</a>'\n",
              "            + ' to learn more about interactive tables.';\n",
              "          element.innerHTML = '';\n",
              "          dataTable['output_type'] = 'display_data';\n",
              "          await google.colab.output.renderOutput(dataTable, element);\n",
              "          const docLink = document.createElement('div');\n",
              "          docLink.innerHTML = docLinkHtml;\n",
              "          element.appendChild(docLink);\n",
              "        }\n",
              "      </script>\n",
              "    </div>\n",
              "  </div>\n",
              "  "
            ]
          },
          "metadata": {},
          "execution_count": 43
        }
      ],
      "source": [
        "y_svm_pred = svm.predict(X_test)\n",
        "evaluate = pd.DataFrame({'y_test': y_test, 'y_pred': y_svm_pred})\n",
        "evaluate"
      ]
    },
    {
      "cell_type": "markdown",
      "source": [
        "dilakukan comparison antara hasil dari y_predict dan y_test. apakah sesuai atau tidak. maksudnya, apakah jenis sunscreen yang dikategorikan sebagai chemical benar-benar berjenis chemical? begitu juga sebaliknya.\n",
        "\n",
        "Dari hasil analisa tersebut didapatkan terlihat ada beberapa hasil prediksi jenis sunscreen yang tidak sesuai dengan hasil test jenis sunscreen."
      ],
      "metadata": {
        "id": "_XvcDz12UWC3"
      }
    },
    {
      "cell_type": "code",
      "execution_count": null,
      "metadata": {
        "colab": {
          "base_uri": "https://localhost:8080/"
        },
        "id": "51aMB9Cx2XWt",
        "outputId": "fa439a07-64bf-4b15-e070-c652c655b479"
      },
      "outputs": [
        {
          "output_type": "stream",
          "name": "stdout",
          "text": [
            "Confusion Matrix\n",
            " [[ 3  2]\n",
            " [ 1 10]]\n"
          ]
        }
      ],
      "source": [
        "from sklearn.metrics import confusion_matrix\n",
        "cm = confusion_matrix(y_test, y_svm_pred)\n",
        "print(\"Confusion Matrix\\n\", cm)"
      ]
    },
    {
      "cell_type": "markdown",
      "source": [
        "**True Negative** merupakan jumlah data yang diklasifikasikan dengan benar sebagai kelas jenis sunscreen chemical, dengan TN sebanyak 3\n",
        "\n",
        "**False Positive** merupakan jumlah data yang seharusnya diklasifikasikan sebagai kelas jenis sunscreen chemical namun salah diklasifikasikan sebagai kelas jenis sunscreen physical, dengan FP sebanyak 2\n",
        "\n",
        "**False Negative** merupakan jumlah data yang seharusnya diklasifikasikan sebagai kelas jenis sunscreen physical namun salah diklasifikasikan sebagai kelas jenis sunscreen chemical, dengan FN sebanyak 1\n",
        "\n",
        "**True Positive** merupakan jumlah data yang diklasifikasikan dengan benar sebagai kelas jenis sunscreen physical, dengan TP sebanyak 10"
      ],
      "metadata": {
        "id": "E6Uua1aMU5cB"
      }
    },
    {
      "cell_type": "code",
      "execution_count": null,
      "metadata": {
        "colab": {
          "base_uri": "https://localhost:8080/",
          "height": 81
        },
        "id": "tLv6iy2H2bXS",
        "outputId": "0aa5977c-3b88-4f68-9c88-f9e4dfde0516"
      },
      "outputs": [
        {
          "output_type": "execute_result",
          "data": {
            "text/plain": [
              "   Precision    Recall  f1-Score  Accuracy Score\n",
              "0   0.833333  0.909091  0.869565          0.8125"
            ],
            "text/html": [
              "\n",
              "  <div id=\"df-e7c085bb-dabe-425f-8bf1-83797eaf104e\">\n",
              "    <div class=\"colab-df-container\">\n",
              "      <div>\n",
              "<style scoped>\n",
              "    .dataframe tbody tr th:only-of-type {\n",
              "        vertical-align: middle;\n",
              "    }\n",
              "\n",
              "    .dataframe tbody tr th {\n",
              "        vertical-align: top;\n",
              "    }\n",
              "\n",
              "    .dataframe thead th {\n",
              "        text-align: right;\n",
              "    }\n",
              "</style>\n",
              "<table border=\"1\" class=\"dataframe\">\n",
              "  <thead>\n",
              "    <tr style=\"text-align: right;\">\n",
              "      <th></th>\n",
              "      <th>Precision</th>\n",
              "      <th>Recall</th>\n",
              "      <th>f1-Score</th>\n",
              "      <th>Accuracy Score</th>\n",
              "    </tr>\n",
              "  </thead>\n",
              "  <tbody>\n",
              "    <tr>\n",
              "      <th>0</th>\n",
              "      <td>0.833333</td>\n",
              "      <td>0.909091</td>\n",
              "      <td>0.869565</td>\n",
              "      <td>0.8125</td>\n",
              "    </tr>\n",
              "  </tbody>\n",
              "</table>\n",
              "</div>\n",
              "      <button class=\"colab-df-convert\" onclick=\"convertToInteractive('df-e7c085bb-dabe-425f-8bf1-83797eaf104e')\"\n",
              "              title=\"Convert this dataframe to an interactive table.\"\n",
              "              style=\"display:none;\">\n",
              "        \n",
              "  <svg xmlns=\"http://www.w3.org/2000/svg\" height=\"24px\"viewBox=\"0 0 24 24\"\n",
              "       width=\"24px\">\n",
              "    <path d=\"M0 0h24v24H0V0z\" fill=\"none\"/>\n",
              "    <path d=\"M18.56 5.44l.94 2.06.94-2.06 2.06-.94-2.06-.94-.94-2.06-.94 2.06-2.06.94zm-11 1L8.5 8.5l.94-2.06 2.06-.94-2.06-.94L8.5 2.5l-.94 2.06-2.06.94zm10 10l.94 2.06.94-2.06 2.06-.94-2.06-.94-.94-2.06-.94 2.06-2.06.94z\"/><path d=\"M17.41 7.96l-1.37-1.37c-.4-.4-.92-.59-1.43-.59-.52 0-1.04.2-1.43.59L10.3 9.45l-7.72 7.72c-.78.78-.78 2.05 0 2.83L4 21.41c.39.39.9.59 1.41.59.51 0 1.02-.2 1.41-.59l7.78-7.78 2.81-2.81c.8-.78.8-2.07 0-2.86zM5.41 20L4 18.59l7.72-7.72 1.47 1.35L5.41 20z\"/>\n",
              "  </svg>\n",
              "      </button>\n",
              "      \n",
              "  <style>\n",
              "    .colab-df-container {\n",
              "      display:flex;\n",
              "      flex-wrap:wrap;\n",
              "      gap: 12px;\n",
              "    }\n",
              "\n",
              "    .colab-df-convert {\n",
              "      background-color: #E8F0FE;\n",
              "      border: none;\n",
              "      border-radius: 50%;\n",
              "      cursor: pointer;\n",
              "      display: none;\n",
              "      fill: #1967D2;\n",
              "      height: 32px;\n",
              "      padding: 0 0 0 0;\n",
              "      width: 32px;\n",
              "    }\n",
              "\n",
              "    .colab-df-convert:hover {\n",
              "      background-color: #E2EBFA;\n",
              "      box-shadow: 0px 1px 2px rgba(60, 64, 67, 0.3), 0px 1px 3px 1px rgba(60, 64, 67, 0.15);\n",
              "      fill: #174EA6;\n",
              "    }\n",
              "\n",
              "    [theme=dark] .colab-df-convert {\n",
              "      background-color: #3B4455;\n",
              "      fill: #D2E3FC;\n",
              "    }\n",
              "\n",
              "    [theme=dark] .colab-df-convert:hover {\n",
              "      background-color: #434B5C;\n",
              "      box-shadow: 0px 1px 3px 1px rgba(0, 0, 0, 0.15);\n",
              "      filter: drop-shadow(0px 1px 2px rgba(0, 0, 0, 0.3));\n",
              "      fill: #FFFFFF;\n",
              "    }\n",
              "  </style>\n",
              "\n",
              "      <script>\n",
              "        const buttonEl =\n",
              "          document.querySelector('#df-e7c085bb-dabe-425f-8bf1-83797eaf104e button.colab-df-convert');\n",
              "        buttonEl.style.display =\n",
              "          google.colab.kernel.accessAllowed ? 'block' : 'none';\n",
              "\n",
              "        async function convertToInteractive(key) {\n",
              "          const element = document.querySelector('#df-e7c085bb-dabe-425f-8bf1-83797eaf104e');\n",
              "          const dataTable =\n",
              "            await google.colab.kernel.invokeFunction('convertToInteractive',\n",
              "                                                     [key], {});\n",
              "          if (!dataTable) return;\n",
              "\n",
              "          const docLinkHtml = 'Like what you see? Visit the ' +\n",
              "            '<a target=\"_blank\" href=https://colab.research.google.com/notebooks/data_table.ipynb>data table notebook</a>'\n",
              "            + ' to learn more about interactive tables.';\n",
              "          element.innerHTML = '';\n",
              "          dataTable['output_type'] = 'display_data';\n",
              "          await google.colab.output.renderOutput(dataTable, element);\n",
              "          const docLink = document.createElement('div');\n",
              "          docLink.innerHTML = docLinkHtml;\n",
              "          element.appendChild(docLink);\n",
              "        }\n",
              "      </script>\n",
              "    </div>\n",
              "  </div>\n",
              "  "
            ]
          },
          "metadata": {},
          "execution_count": 45
        }
      ],
      "source": [
        "# evaluasi model\n",
        "from sklearn.metrics import precision_score, recall_score, f1_score, accuracy_score\n",
        "#Menghitung presisi, recall\n",
        "precision = precision_score(y_test, y_svm_pred)\n",
        "recall = recall_score(y_test, y_svm_pred)\n",
        "f1 = f1_score(y_test, y_svm_pred)\n",
        "accuracy_svm = accuracy_score(y_test, y_svm_pred)\n",
        "\n",
        "result = pd.DataFrame({'Precision': [precision], 'Recall': [recall], 'f1-Score': [f1], 'Accuracy Score': [accuracy_svm]})\n",
        "result"
      ]
    },
    {
      "cell_type": "markdown",
      "source": [
        "untuk mendapatkan nilai dari evaluasi model (metrics) digunakan function precision_score(), recall_score(), f1_score(), dan accuracy_score() yang didapatkan dari library sklearn.metrics"
      ],
      "metadata": {
        "id": "tXEQFc29VJJS"
      }
    },
    {
      "cell_type": "markdown",
      "source": [
        "- Precision adalah rasio jumlah data positif yang diklasifikasikan dengan benar oleh model terhadap total data yang diklasifikasikan sebagai positif. Precision mengukur seberapa akurat model dalam mengidentifikasi data positif.\n",
        "\n",
        "- Recall adalah rasio jumlah data positif yang diklasifikasikan dengan benar oleh model terhadap total data positif yang ada. Recall mengukur seberapa baik model dalam mengenali data positif.\n",
        "\n",
        "- f1-score adalah nilai rata-rata harmonis antara presisi dan recall. Metrik ini memberikan keseimbangan antara presisi dan recall.\n",
        "\n",
        "- Accuracy adalah rasio jumlah data yang diklasifikasikan dengan benar oleh model terhadap total jumlah data yang ada. Accuracy mengukur seberapa sering model benar dalam memprediksi kelas target\n",
        "\n",
        "- Dari hasil evaluasi model diatas didapatkan hasil untuk precision sebesar 83.33%, recall sebesar 90.91%, dan f1-score sebesar 86.96%, dan akurasi model sebesar 81,25%\n"
      ],
      "metadata": {
        "id": "37BYIncuVMg-"
      }
    },
    {
      "cell_type": "markdown",
      "metadata": {
        "id": "RdQcxdz_xfcR"
      },
      "source": [
        "# Perbandingan ACCURACY"
      ]
    },
    {
      "cell_type": "code",
      "execution_count": null,
      "metadata": {
        "colab": {
          "base_uri": "https://localhost:8080/",
          "height": 81
        },
        "id": "POpMlnW-pF50",
        "outputId": "07752a6c-8b61-4b85-8db7-de2156c95312"
      },
      "outputs": [
        {
          "output_type": "execute_result",
          "data": {
            "text/plain": [
              "   Accuracy RF  Accuracy SVM\n",
              "0         0.75        0.8125"
            ],
            "text/html": [
              "\n",
              "  <div id=\"df-198b3c1c-1edc-467e-93b9-bd7817830269\">\n",
              "    <div class=\"colab-df-container\">\n",
              "      <div>\n",
              "<style scoped>\n",
              "    .dataframe tbody tr th:only-of-type {\n",
              "        vertical-align: middle;\n",
              "    }\n",
              "\n",
              "    .dataframe tbody tr th {\n",
              "        vertical-align: top;\n",
              "    }\n",
              "\n",
              "    .dataframe thead th {\n",
              "        text-align: right;\n",
              "    }\n",
              "</style>\n",
              "<table border=\"1\" class=\"dataframe\">\n",
              "  <thead>\n",
              "    <tr style=\"text-align: right;\">\n",
              "      <th></th>\n",
              "      <th>Accuracy RF</th>\n",
              "      <th>Accuracy SVM</th>\n",
              "    </tr>\n",
              "  </thead>\n",
              "  <tbody>\n",
              "    <tr>\n",
              "      <th>0</th>\n",
              "      <td>0.75</td>\n",
              "      <td>0.8125</td>\n",
              "    </tr>\n",
              "  </tbody>\n",
              "</table>\n",
              "</div>\n",
              "      <button class=\"colab-df-convert\" onclick=\"convertToInteractive('df-198b3c1c-1edc-467e-93b9-bd7817830269')\"\n",
              "              title=\"Convert this dataframe to an interactive table.\"\n",
              "              style=\"display:none;\">\n",
              "        \n",
              "  <svg xmlns=\"http://www.w3.org/2000/svg\" height=\"24px\"viewBox=\"0 0 24 24\"\n",
              "       width=\"24px\">\n",
              "    <path d=\"M0 0h24v24H0V0z\" fill=\"none\"/>\n",
              "    <path d=\"M18.56 5.44l.94 2.06.94-2.06 2.06-.94-2.06-.94-.94-2.06-.94 2.06-2.06.94zm-11 1L8.5 8.5l.94-2.06 2.06-.94-2.06-.94L8.5 2.5l-.94 2.06-2.06.94zm10 10l.94 2.06.94-2.06 2.06-.94-2.06-.94-.94-2.06-.94 2.06-2.06.94z\"/><path d=\"M17.41 7.96l-1.37-1.37c-.4-.4-.92-.59-1.43-.59-.52 0-1.04.2-1.43.59L10.3 9.45l-7.72 7.72c-.78.78-.78 2.05 0 2.83L4 21.41c.39.39.9.59 1.41.59.51 0 1.02-.2 1.41-.59l7.78-7.78 2.81-2.81c.8-.78.8-2.07 0-2.86zM5.41 20L4 18.59l7.72-7.72 1.47 1.35L5.41 20z\"/>\n",
              "  </svg>\n",
              "      </button>\n",
              "      \n",
              "  <style>\n",
              "    .colab-df-container {\n",
              "      display:flex;\n",
              "      flex-wrap:wrap;\n",
              "      gap: 12px;\n",
              "    }\n",
              "\n",
              "    .colab-df-convert {\n",
              "      background-color: #E8F0FE;\n",
              "      border: none;\n",
              "      border-radius: 50%;\n",
              "      cursor: pointer;\n",
              "      display: none;\n",
              "      fill: #1967D2;\n",
              "      height: 32px;\n",
              "      padding: 0 0 0 0;\n",
              "      width: 32px;\n",
              "    }\n",
              "\n",
              "    .colab-df-convert:hover {\n",
              "      background-color: #E2EBFA;\n",
              "      box-shadow: 0px 1px 2px rgba(60, 64, 67, 0.3), 0px 1px 3px 1px rgba(60, 64, 67, 0.15);\n",
              "      fill: #174EA6;\n",
              "    }\n",
              "\n",
              "    [theme=dark] .colab-df-convert {\n",
              "      background-color: #3B4455;\n",
              "      fill: #D2E3FC;\n",
              "    }\n",
              "\n",
              "    [theme=dark] .colab-df-convert:hover {\n",
              "      background-color: #434B5C;\n",
              "      box-shadow: 0px 1px 3px 1px rgba(0, 0, 0, 0.15);\n",
              "      filter: drop-shadow(0px 1px 2px rgba(0, 0, 0, 0.3));\n",
              "      fill: #FFFFFF;\n",
              "    }\n",
              "  </style>\n",
              "\n",
              "      <script>\n",
              "        const buttonEl =\n",
              "          document.querySelector('#df-198b3c1c-1edc-467e-93b9-bd7817830269 button.colab-df-convert');\n",
              "        buttonEl.style.display =\n",
              "          google.colab.kernel.accessAllowed ? 'block' : 'none';\n",
              "\n",
              "        async function convertToInteractive(key) {\n",
              "          const element = document.querySelector('#df-198b3c1c-1edc-467e-93b9-bd7817830269');\n",
              "          const dataTable =\n",
              "            await google.colab.kernel.invokeFunction('convertToInteractive',\n",
              "                                                     [key], {});\n",
              "          if (!dataTable) return;\n",
              "\n",
              "          const docLinkHtml = 'Like what you see? Visit the ' +\n",
              "            '<a target=\"_blank\" href=https://colab.research.google.com/notebooks/data_table.ipynb>data table notebook</a>'\n",
              "            + ' to learn more about interactive tables.';\n",
              "          element.innerHTML = '';\n",
              "          dataTable['output_type'] = 'display_data';\n",
              "          await google.colab.output.renderOutput(dataTable, element);\n",
              "          const docLink = document.createElement('div');\n",
              "          docLink.innerHTML = docLinkHtml;\n",
              "          element.appendChild(docLink);\n",
              "        }\n",
              "      </script>\n",
              "    </div>\n",
              "  </div>\n",
              "  "
            ]
          },
          "metadata": {},
          "execution_count": 46
        }
      ],
      "source": [
        "klasifikasi = pd.DataFrame({'Accuracy RF': [accuracy_rf],\n",
        "                            'Accuracy SVM': [accuracy_svm]})\n",
        "klasifikasi"
      ]
    },
    {
      "cell_type": "markdown",
      "source": [
        "Setelah dilakukan analisis klasifikasi dengan menggunakan Random Forest dan Support Vector Machine didapatkan bahwa SVM cenderung kebih unggul jika dibandingkan dengan Random Forest dimana akurasi yang didapatkan dengan model SVM mencapai 81.25%, sedangkan akurasi yang didapatkan model Random Forest mencapai 75%."
      ],
      "metadata": {
        "id": "Rk63BFcTXTCN"
      }
    },
    {
      "cell_type": "markdown",
      "source": [
        "Kami menduga alasan mengapa model SVM memiliki akurasi yang lebih unggul dibandingkan dengan Random Forest, diantaranya:\n",
        "- Data yang kami gunakan untuk penelitian kali ini adalah data dengan jumlah relatif kecil jika dibandingkan dengan penelitian-penelitian lain. Metode SVM cukup baik untuk menangani dataset dengan ukuran yang relatif kecil.\n",
        "- Proses Prepocessing. Metode SVM cenderung sensitif terhadap skala fitur, sehingga perlu dilakukan normalisasi. pada analisa kami, kami juga melakukan normalisasi sehingga memenuhi kriteria model SVM.\n",
        "- Karakteristik data SVM. Metode SVM memiliki keungguluan dalam menangani data dengan fitur yang kompleks. Kami menduga bahwa dataset kami memiliki fitur yang kompleks sehingga memenuhi untuk dilakukan klasifikasi dengan menggunakan Support Vector Machine (SVM)"
      ],
      "metadata": {
        "id": "GsG9UGt-YBma"
      }
    },
    {
      "cell_type": "markdown",
      "source": [
        "Oleh karena itu, disarankan jika ingin mengetahui jenis sunscreen apa yang baik digunakan sesuai dengan permasalahan kulitnya bisa digunakan model SVM."
      ],
      "metadata": {
        "id": "_OTv7FMqX0rb"
      }
    }
  ],
  "metadata": {
    "colab": {
      "provenance": []
    },
    "kernelspec": {
      "display_name": "Python 3",
      "name": "python3"
    },
    "language_info": {
      "name": "python"
    }
  },
  "nbformat": 4,
  "nbformat_minor": 0
}